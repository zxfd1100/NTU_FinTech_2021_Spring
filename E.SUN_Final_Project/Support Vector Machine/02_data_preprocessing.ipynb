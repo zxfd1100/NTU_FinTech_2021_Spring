{
 "cells": [
  {
   "cell_type": "markdown",
   "metadata": {
    "id": "_9oGqna-66UO"
   },
   "source": [
    "# 載入資料"
   ]
  },
  {
   "cell_type": "code",
   "execution_count": 1,
   "metadata": {
    "colab": {
     "base_uri": "https://localhost:8080/"
    },
    "collapsed": true,
    "executionInfo": {
     "elapsed": 24003,
     "status": "ok",
     "timestamp": 1622631590247,
     "user": {
      "displayName": "109碩-林晉宇",
      "photoUrl": "https://lh3.googleusercontent.com/a-/AOh14GgGsspHeoi1jM836wy9pusH3l_wWXgPgiTcB1Up=s64",
      "userId": "07848351159291208652"
     },
     "user_tz": -480
    },
    "id": "dsFsQHvClmsc",
    "jupyter": {
     "outputs_hidden": true,
     "source_hidden": true
    },
    "outputId": "4a79d91f-ff42-4092-95c3-319edd2b39e9"
   },
   "outputs": [
    {
     "name": "stdout",
     "output_type": "stream",
     "text": [
      "Mounted at /gdrive\n"
     ]
    }
   ],
   "source": [
    "# 如果有使用 coloab 再執行此 cell\n",
    "from google.colab import drive\n",
    "drive.mount('/gdrive')\n",
    "!ln -s /gdrive/MyDrive/Credit_Card/ /content/"
   ]
  },
  {
   "cell_type": "code",
   "execution_count": null,
   "metadata": {
    "colab": {
     "base_uri": "https://localhost:8080/",
     "height": 331
    },
    "collapsed": true,
    "executionInfo": {
     "elapsed": 8323,
     "status": "ok",
     "timestamp": 1622545469002,
     "user": {
      "displayName": "109碩-林晉宇",
      "photoUrl": "https://lh3.googleusercontent.com/a-/AOh14GgGsspHeoi1jM836wy9pusH3l_wWXgPgiTcB1Up=s64",
      "userId": "07848351159291208652"
     },
     "user_tz": -480
    },
    "id": "o0jAIuhP64nQ",
    "jupyter": {
     "outputs_hidden": true,
     "source_hidden": true
    },
    "outputId": "0708eef9-ab4e-411a-bc35-325d7ab14f76"
   },
   "outputs": [
    {
     "name": "stdout",
     "output_type": "stream",
     "text": [
      "Requirement already satisfied: gdown in /usr/local/lib/python3.7/dist-packages (3.6.4)\n",
      "Requirement already satisfied: six in /usr/local/lib/python3.7/dist-packages (from gdown) (1.15.0)\n",
      "Requirement already satisfied: tqdm in /usr/local/lib/python3.7/dist-packages (from gdown) (4.41.1)\n",
      "Requirement already satisfied: requests in /usr/local/lib/python3.7/dist-packages (from gdown) (2.23.0)\n",
      "Requirement already satisfied: idna<3,>=2.5 in /usr/local/lib/python3.7/dist-packages (from requests->gdown) (2.10)\n",
      "Requirement already satisfied: urllib3!=1.25.0,!=1.25.1,<1.26,>=1.21.1 in /usr/local/lib/python3.7/dist-packages (from requests->gdown) (1.24.3)\n",
      "Requirement already satisfied: certifi>=2017.4.17 in /usr/local/lib/python3.7/dist-packages (from requests->gdown) (2020.12.5)\n",
      "Requirement already satisfied: chardet<4,>=3.0.2 in /usr/local/lib/python3.7/dist-packages (from requests->gdown) (3.0.4)\n"
     ]
    },
    {
     "name": "stderr",
     "output_type": "stream",
     "text": [
      "Downloading...\n",
      "From: https://drive.google.com/uc?id=1SvJ_IiHr-ndJDG_sBf6NCn0lMKUxPIlf\n",
      "To: /content/train.csv\n",
      "132MB [00:01, 90.5MB/s]\n",
      "Downloading...\n",
      "From: https://drive.google.com/uc?id=1lZPv46zul32Xbr1qHES66YRzMa-A7MzB\n",
      "To: /content/test.csv\n",
      "36.2MB [00:00, 93.1MB/s]\n"
     ]
    },
    {
     "data": {
      "application/vnd.google.colaboratory.intrinsic+json": {
       "type": "string"
      },
      "text/plain": [
       "'test.csv'"
      ]
     },
     "execution_count": 2,
     "metadata": {
      "tags": []
     },
     "output_type": "execute_result"
    }
   ],
   "source": [
    "f1id = '1SvJ_IiHr-ndJDG_sBf6NCn0lMKUxPIlf'\n",
    "f2id = '1lZPv46zul32Xbr1qHES66YRzMa-A7MzB'\n",
    "\n",
    "\n",
    "!pip3 install gdown\n",
    "import gdown\n",
    "url = 'https://drive.google.com/uc?id=%s'%(f1id)\n",
    "output = 'train.csv'\n",
    "gdown.download(url, output, quiet=False)\n",
    "url = 'https://drive.google.com/uc?id=%s'%(f2id)\n",
    "output = 'test.csv'\n",
    "gdown.download(url, output, quiet=False)"
   ]
  },
  {
   "cell_type": "code",
   "execution_count": 1,
   "metadata": {
    "executionInfo": {
     "elapsed": 387,
     "status": "ok",
     "timestamp": 1622631598820,
     "user": {
      "displayName": "109碩-林晉宇",
      "photoUrl": "https://lh3.googleusercontent.com/a-/AOh14GgGsspHeoi1jM836wy9pusH3l_wWXgPgiTcB1Up=s64",
      "userId": "07848351159291208652"
     },
     "user_tz": -480
    },
    "id": "LKL89Hj-4fOG"
   },
   "outputs": [],
   "source": [
    "import pandas as pd\n",
    "import numpy as np"
   ]
  },
  {
   "cell_type": "markdown",
   "metadata": {
    "id": "DH7sJTDR4fOM"
   },
   "source": [
    "# Load Data and Overview"
   ]
  },
  {
   "cell_type": "code",
   "execution_count": 2,
   "metadata": {
    "colab": {
     "base_uri": "https://localhost:8080/"
    },
    "executionInfo": {
     "elapsed": 5013,
     "status": "ok",
     "timestamp": 1622631612886,
     "user": {
      "displayName": "109碩-林晉宇",
      "photoUrl": "https://lh3.googleusercontent.com/a-/AOh14GgGsspHeoi1jM836wy9pusH3l_wWXgPgiTcB1Up=s64",
      "userId": "07848351159291208652"
     },
     "user_tz": -480
    },
    "id": "lvcv0-Ke4fOM",
    "outputId": "b18d97c4-c68e-405d-9ebe-a66cc5e9cbd1"
   },
   "outputs": [
    {
     "data": {
      "text/plain": [
       "(1521787, 22)"
      ]
     },
     "execution_count": 2,
     "metadata": {},
     "output_type": "execute_result"
    }
   ],
   "source": [
    "df = pd.read_csv('train.csv').set_index('txkey')\n",
    "df.shape"
   ]
  },
  {
   "cell_type": "code",
   "execution_count": 3,
   "metadata": {
    "executionInfo": {
     "elapsed": 6,
     "status": "ok",
     "timestamp": 1622631612887,
     "user": {
      "displayName": "109碩-林晉宇",
      "photoUrl": "https://lh3.googleusercontent.com/a-/AOh14GgGsspHeoi1jM836wy9pusH3l_wWXgPgiTcB1Up=s64",
      "userId": "07848351159291208652"
     },
     "user_tz": -480
    },
    "id": "oQqBvnKf4fON"
   },
   "outputs": [],
   "source": [
    "y_train = df['fraud_ind']\n",
    "del df['fraud_ind']"
   ]
  },
  {
   "cell_type": "code",
   "execution_count": 4,
   "metadata": {
    "colab": {
     "base_uri": "https://localhost:8080/"
    },
    "executionInfo": {
     "elapsed": 3056,
     "status": "ok",
     "timestamp": 1622631615938,
     "user": {
      "displayName": "109碩-林晉宇",
      "photoUrl": "https://lh3.googleusercontent.com/a-/AOh14GgGsspHeoi1jM836wy9pusH3l_wWXgPgiTcB1Up=s64",
      "userId": "07848351159291208652"
     },
     "user_tz": -480
    },
    "id": "pUkNsJue4fON",
    "outputId": "d6a3f16c-5062-4acb-b84f-77e367d90241"
   },
   "outputs": [
    {
     "data": {
      "text/plain": [
       "(421665, 21)"
      ]
     },
     "execution_count": 4,
     "metadata": {},
     "output_type": "execute_result"
    }
   ],
   "source": [
    "# testing data 的要放進來，這樣 labeling encoding 才不會漏掉\n",
    "df_test = pd.read_csv('test.csv').set_index('txkey')\n",
    "df_test.shape"
   ]
  },
  {
   "cell_type": "code",
   "execution_count": 5,
   "metadata": {
    "colab": {
     "base_uri": "https://localhost:8080/",
     "height": 158
    },
    "executionInfo": {
     "elapsed": 12,
     "status": "ok",
     "timestamp": 1622631615939,
     "user": {
      "displayName": "109碩-林晉宇",
      "photoUrl": "https://lh3.googleusercontent.com/a-/AOh14GgGsspHeoi1jM836wy9pusH3l_wWXgPgiTcB1Up=s64",
      "userId": "07848351159291208652"
     },
     "user_tz": -480
    },
    "id": "e7lS9OPRBRXq",
    "outputId": "8bc27079-d1df-4c9f-a791-9c7bd9327420"
   },
   "outputs": [
    {
     "data": {
      "text/html": [
       "<div>\n",
       "<style scoped>\n",
       "    .dataframe tbody tr th:only-of-type {\n",
       "        vertical-align: middle;\n",
       "    }\n",
       "\n",
       "    .dataframe tbody tr th {\n",
       "        vertical-align: top;\n",
       "    }\n",
       "\n",
       "    .dataframe thead th {\n",
       "        text-align: right;\n",
       "    }\n",
       "</style>\n",
       "<table border=\"1\" class=\"dataframe\">\n",
       "  <thead>\n",
       "    <tr style=\"text-align: right;\">\n",
       "      <th></th>\n",
       "      <th>acqic</th>\n",
       "      <th>bacno</th>\n",
       "      <th>cano</th>\n",
       "      <th>conam</th>\n",
       "      <th>contp</th>\n",
       "      <th>csmcu</th>\n",
       "      <th>ecfg</th>\n",
       "      <th>etymd</th>\n",
       "      <th>flbmk</th>\n",
       "      <th>flg_3dsmk</th>\n",
       "      <th>...</th>\n",
       "      <th>insfg</th>\n",
       "      <th>iterm</th>\n",
       "      <th>locdt</th>\n",
       "      <th>loctm</th>\n",
       "      <th>mcc</th>\n",
       "      <th>mchno</th>\n",
       "      <th>ovrlt</th>\n",
       "      <th>scity</th>\n",
       "      <th>stocn</th>\n",
       "      <th>stscd</th>\n",
       "    </tr>\n",
       "    <tr>\n",
       "      <th>txkey</th>\n",
       "      <th></th>\n",
       "      <th></th>\n",
       "      <th></th>\n",
       "      <th></th>\n",
       "      <th></th>\n",
       "      <th></th>\n",
       "      <th></th>\n",
       "      <th></th>\n",
       "      <th></th>\n",
       "      <th></th>\n",
       "      <th></th>\n",
       "      <th></th>\n",
       "      <th></th>\n",
       "      <th></th>\n",
       "      <th></th>\n",
       "      <th></th>\n",
       "      <th></th>\n",
       "      <th></th>\n",
       "      <th></th>\n",
       "      <th></th>\n",
       "      <th></th>\n",
       "    </tr>\n",
       "  </thead>\n",
       "  <tbody>\n",
       "    <tr>\n",
       "      <th>592489</th>\n",
       "      <td>6881</td>\n",
       "      <td>163188</td>\n",
       "      <td>116799</td>\n",
       "      <td>513.8</td>\n",
       "      <td>5</td>\n",
       "      <td>0</td>\n",
       "      <td>N</td>\n",
       "      <td>0</td>\n",
       "      <td>N</td>\n",
       "      <td>N</td>\n",
       "      <td>...</td>\n",
       "      <td>N</td>\n",
       "      <td>0</td>\n",
       "      <td>102</td>\n",
       "      <td>215328.0</td>\n",
       "      <td>457</td>\n",
       "      <td>59360</td>\n",
       "      <td>N</td>\n",
       "      <td>0</td>\n",
       "      <td>102</td>\n",
       "      <td>0</td>\n",
       "    </tr>\n",
       "    <tr>\n",
       "      <th>592452</th>\n",
       "      <td>6881</td>\n",
       "      <td>163188</td>\n",
       "      <td>116799</td>\n",
       "      <td>513.8</td>\n",
       "      <td>5</td>\n",
       "      <td>0</td>\n",
       "      <td>N</td>\n",
       "      <td>0</td>\n",
       "      <td>N</td>\n",
       "      <td>N</td>\n",
       "      <td>...</td>\n",
       "      <td>N</td>\n",
       "      <td>0</td>\n",
       "      <td>102</td>\n",
       "      <td>222007.0</td>\n",
       "      <td>457</td>\n",
       "      <td>59360</td>\n",
       "      <td>N</td>\n",
       "      <td>0</td>\n",
       "      <td>102</td>\n",
       "      <td>0</td>\n",
       "    </tr>\n",
       "  </tbody>\n",
       "</table>\n",
       "<p>2 rows × 21 columns</p>\n",
       "</div>"
      ],
      "text/plain": [
       "        acqic   bacno    cano  conam  contp  csmcu ecfg  etymd flbmk  \\\n",
       "txkey                                                                  \n",
       "592489   6881  163188  116799  513.8      5      0    N      0     N   \n",
       "592452   6881  163188  116799  513.8      5      0    N      0     N   \n",
       "\n",
       "       flg_3dsmk  ...  insfg iterm  locdt     loctm  mcc  mchno  ovrlt scity  \\\n",
       "txkey             ...                                                          \n",
       "592489         N  ...      N     0    102  215328.0  457  59360      N     0   \n",
       "592452         N  ...      N     0    102  222007.0  457  59360      N     0   \n",
       "\n",
       "        stocn  stscd  \n",
       "txkey                 \n",
       "592489    102      0  \n",
       "592452    102      0  \n",
       "\n",
       "[2 rows x 21 columns]"
      ]
     },
     "execution_count": 5,
     "metadata": {},
     "output_type": "execute_result"
    }
   ],
   "source": [
    "df_test.head(2)"
   ]
  },
  {
   "cell_type": "code",
   "execution_count": 6,
   "metadata": {
    "colab": {
     "base_uri": "https://localhost:8080/"
    },
    "executionInfo": {
     "elapsed": 527,
     "status": "ok",
     "timestamp": 1622631617022,
     "user": {
      "displayName": "109碩-林晉宇",
      "photoUrl": "https://lh3.googleusercontent.com/a-/AOh14GgGsspHeoi1jM836wy9pusH3l_wWXgPgiTcB1Up=s64",
      "userId": "07848351159291208652"
     },
     "user_tz": -480
    },
    "id": "kBsIszQA4fOO",
    "outputId": "acbfa411-ab10-46b8-abd5-7e4dec35a88c"
   },
   "outputs": [
    {
     "data": {
      "text/plain": [
       "(1943452, 21)"
      ]
     },
     "execution_count": 6,
     "metadata": {},
     "output_type": "execute_result"
    }
   ],
   "source": [
    "df = pd.concat((df, df_test), 0)\n",
    "df.shape"
   ]
  },
  {
   "cell_type": "code",
   "execution_count": 7,
   "metadata": {
    "colab": {
     "base_uri": "https://localhost:8080/"
    },
    "executionInfo": {
     "elapsed": 376,
     "status": "ok",
     "timestamp": 1622631618884,
     "user": {
      "displayName": "109碩-林晉宇",
      "photoUrl": "https://lh3.googleusercontent.com/a-/AOh14GgGsspHeoi1jM836wy9pusH3l_wWXgPgiTcB1Up=s64",
      "userId": "07848351159291208652"
     },
     "user_tz": -480
    },
    "id": "5t5E7bT84fOO",
    "outputId": "2dfc3545-8c5d-4d97-9fed-8cc0d7910c38"
   },
   "outputs": [
    {
     "data": {
      "text/plain": [
       "Index(['acqic', 'bacno', 'cano', 'conam', 'contp', 'csmcu', 'ecfg', 'etymd',\n",
       "       'flbmk', 'flg_3dsmk', 'hcefg', 'insfg', 'iterm', 'locdt', 'loctm',\n",
       "       'mcc', 'mchno', 'ovrlt', 'scity', 'stocn', 'stscd'],\n",
       "      dtype='object')"
      ]
     },
     "execution_count": 7,
     "metadata": {},
     "output_type": "execute_result"
    }
   ],
   "source": [
    "df.keys()"
   ]
  },
  {
   "cell_type": "code",
   "execution_count": 8,
   "metadata": {
    "colab": {
     "base_uri": "https://localhost:8080/"
    },
    "executionInfo": {
     "elapsed": 1070,
     "status": "ok",
     "timestamp": 1622631621049,
     "user": {
      "displayName": "109碩-林晉宇",
      "photoUrl": "https://lh3.googleusercontent.com/a-/AOh14GgGsspHeoi1jM836wy9pusH3l_wWXgPgiTcB1Up=s64",
      "userId": "07848351159291208652"
     },
     "user_tz": -480
    },
    "id": "r06BPlmv4fOO",
    "outputId": "c0a61ebb-d187-4254-8425-eae8564b154f"
   },
   "outputs": [
    {
     "name": "stdout",
     "output_type": "stream",
     "text": [
      "acqic: dtype=int64, n_na=0\n",
      "       max=6884, min=0, mean=6004.54, std=1505.74, diversity=0.35%\n",
      "bacno: dtype=int64, n_na=0\n",
      "       max=163886, min=0, mean=82087.41, std=47323.48, diversity=8.40%\n",
      "cano: dtype=int64, n_na=0\n",
      "       max=213575, min=0, mean=109045.28, std=61103.56, diversity=10.93%\n",
      "conam: dtype=float64, n_na=0\n",
      "       max=7208.77, min=0.0, mean=651.62, std=403.22, diversity=4.44%\n",
      "contp: uni=[5 3 6 2 4 0 1]\n",
      "csmcu: uni=[ 0 62 74 61 13 67 60 26 49 10 71 56 20 38 22  4 47 54 75 32 66 29 28 14\n",
      " 50 30 31 45 24 40 35 59  3 48 63 52 41 23 17 16 73 51 53 44 18 12 15  5\n",
      " 70 21 39 27 42 11 72  6 25  7 43  2 19 37  1 64 57 36 68 55  9 46 34 69\n",
      "  8 33 65 58]\n",
      "ecfg: uni=['N' 'Y']\n",
      "etymd: uni=[ 0  2  5  4  8  1  9  6  3  7 10]\n",
      "flbmk: uni=['N' 'Y' nan]\n",
      "flg_3dsmk: uni=['N' 'Y' nan]\n",
      "hcefg: uni=[5 0 3 1 2 7 8 9 6 4]\n",
      "insfg: uni=['N' 'Y']\n",
      "iterm: uni=[0 1 2 8 3 4 7 6 5]\n",
      "locdt: uni=[ 33   9   6   5   7  10   8  11  13  14  22  21  25  24  15  12  19  28\n",
      "  18  17  16  23  31  26   2  30   4  20  27  29   1   3  34  66  32  67\n",
      "  70  69  65  35  39  43  38  45  48  54  50  68  36  37  61  42  49  44\n",
      "  58  62  60  63  47  40  41  46  76  51  74  75  52  56  85  53  89  86\n",
      "  73  55  57  59  79  78  72  71  64  80  81  84  77  82  87  88  83  90\n",
      " 102 100  95  94 115 108 112 103 107 119 111 113 116  91 114  96 110  97\n",
      " 118 117  92 109  93 105 120 104  99  98 106 101]\n",
      "loctm: dtype=float64, n_na=0\n",
      "       max=235959.0, min=0.0, mean=146006.05, std=52279.67, diversity=4.40%\n",
      "mcc: dtype=int64, n_na=0\n",
      "       max=459, min=0, mean=297.91, std=78.41, diversity=0.02%\n",
      "mchno: dtype=int64, n_na=0\n",
      "       max=103307, min=0, mean=55892.3, std=30829.44, diversity=5.29%\n",
      "ovrlt: uni=['N' 'Y']\n",
      "scity: dtype=int64, n_na=0\n",
      "       max=6671, min=0, mean=4754.4, std=1982.35, diversity=0.34%\n",
      "stocn: uni=[102  44  14  46  38  93 104  20  75  27  52  16  61  36  50   2  41  42\n",
      "  78  49  10   6  98  17  87  32  81  86  73  92  85  89  55   1  53 101\n",
      "  56  68  62  47   0  76  45  72  94  25  31   4  39  48 106  91  83  34\n",
      "  95  40  26   5  43  90  54 107  67  30  28  69  70  22  60  57  37   8\n",
      "  96  35  74  63  80  51   9 105  13  11  64  59  82  15  79  65  33  77\n",
      "   3  84  99  19   7  29  24  18 100  97  71  12  88  21  23 103 108  58\n",
      "  66]\n",
      "stscd: uni=[0 2 4 1 3]\n"
     ]
    }
   ],
   "source": [
    "# 欄位類別判定\n",
    "col_names_cont = [] # 數值型資料\n",
    "col_names_disc = [] # 類別型資料\n",
    "col_has_na = [] # 待補NA資料\n",
    "for c in df.keys():\n",
    "    uni = df[c].unique()\n",
    "    n_na = pd.isna(df[c]).sum() # NA 數量\n",
    "    if n_na > 0:\n",
    "        col_has_na.append(c)       \n",
    "    if len(uni) < 200 :\n",
    "        print(f\"{c}: uni={uni}\")\n",
    "        col_names_disc.append(c)\n",
    "    else:\n",
    "        info = [ df[c].max(), df[c].min(), df[c].mean(), df[c].std()]\n",
    "        info = [ round(x,2) for x in info ]\n",
    "        offset = 1 if n_na else 0\n",
    "        diversity = (len(uni)-offset)/(len(df)-n_na)\n",
    "        print(f\"{c}: dtype={df[c].dtype}, n_na={n_na}\")\n",
    "        print(\"       max={}, min={}, mean={}, std={}, diversity={:.2f}%\".format(*info, diversity*100 ) )\n",
    "        if diversity == 1.0:\n",
    "            print(f\"       Delete col [{c}] due to diversity is 100% \")\n",
    "        else:\n",
    "            col_names_cont.append(c)"
   ]
  },
  {
   "cell_type": "markdown",
   "metadata": {
    "id": "NDaBcKbY4fOP"
   },
   "source": [
    "- 看起來數值型資料都沒有缺失值(n_na==0)"
   ]
  },
  {
   "cell_type": "code",
   "execution_count": 9,
   "metadata": {
    "colab": {
     "base_uri": "https://localhost:8080/"
    },
    "executionInfo": {
     "elapsed": 620,
     "status": "ok",
     "timestamp": 1622631624631,
     "user": {
      "displayName": "109碩-林晉宇",
      "photoUrl": "https://lh3.googleusercontent.com/a-/AOh14GgGsspHeoi1jM836wy9pusH3l_wWXgPgiTcB1Up=s64",
      "userId": "07848351159291208652"
     },
     "user_tz": -480
    },
    "id": "ACW_6GdN4fOP",
    "outputId": "335217f3-2920-4e72-e342-d9c9df726c0b"
   },
   "outputs": [
    {
     "data": {
      "text/plain": [
       "['flbmk', 'flg_3dsmk']"
      ]
     },
     "execution_count": 9,
     "metadata": {},
     "output_type": "execute_result"
    }
   ],
   "source": [
    "col_has_na"
   ]
  },
  {
   "cell_type": "code",
   "execution_count": 10,
   "metadata": {
    "executionInfo": {
     "elapsed": 940,
     "status": "ok",
     "timestamp": 1622631626572,
     "user": {
      "displayName": "109碩-林晉宇",
      "photoUrl": "https://lh3.googleusercontent.com/a-/AOh14GgGsspHeoi1jM836wy9pusH3l_wWXgPgiTcB1Up=s64",
      "userId": "07848351159291208652"
     },
     "user_tz": -480
    },
    "id": "qXyJmng44fOP"
   },
   "outputs": [],
   "source": [
    "# 處理缺失值\n",
    "df = df.fillna(\"NA\")"
   ]
  },
  {
   "cell_type": "markdown",
   "metadata": {
    "id": "ArrSdbXm4fOP"
   },
   "source": [
    "# Data Preprocessing"
   ]
  },
  {
   "cell_type": "markdown",
   "metadata": {
    "id": "v2_RfVJz4fOQ"
   },
   "source": [
    "## 數值型"
   ]
  },
  {
   "cell_type": "code",
   "execution_count": 11,
   "metadata": {
    "colab": {
     "base_uri": "https://localhost:8080/",
     "height": 228
    },
    "executionInfo": {
     "elapsed": 389,
     "status": "ok",
     "timestamp": 1622631630198,
     "user": {
      "displayName": "109碩-林晉宇",
      "photoUrl": "https://lh3.googleusercontent.com/a-/AOh14GgGsspHeoi1jM836wy9pusH3l_wWXgPgiTcB1Up=s64",
      "userId": "07848351159291208652"
     },
     "user_tz": -480
    },
    "id": "n1-sPpQw4fOQ",
    "outputId": "7ed8f137-7288-4c2d-a545-97758e2e1af8"
   },
   "outputs": [
    {
     "data": {
      "text/html": [
       "<div>\n",
       "<style scoped>\n",
       "    .dataframe tbody tr th:only-of-type {\n",
       "        vertical-align: middle;\n",
       "    }\n",
       "\n",
       "    .dataframe tbody tr th {\n",
       "        vertical-align: top;\n",
       "    }\n",
       "\n",
       "    .dataframe thead th {\n",
       "        text-align: right;\n",
       "    }\n",
       "</style>\n",
       "<table border=\"1\" class=\"dataframe\">\n",
       "  <thead>\n",
       "    <tr style=\"text-align: right;\">\n",
       "      <th></th>\n",
       "      <th>acqic</th>\n",
       "      <th>bacno</th>\n",
       "      <th>cano</th>\n",
       "      <th>conam</th>\n",
       "      <th>loctm</th>\n",
       "      <th>mcc</th>\n",
       "      <th>mchno</th>\n",
       "      <th>scity</th>\n",
       "    </tr>\n",
       "    <tr>\n",
       "      <th>txkey</th>\n",
       "      <th></th>\n",
       "      <th></th>\n",
       "      <th></th>\n",
       "      <th></th>\n",
       "      <th></th>\n",
       "      <th></th>\n",
       "      <th></th>\n",
       "      <th></th>\n",
       "    </tr>\n",
       "  </thead>\n",
       "  <tbody>\n",
       "    <tr>\n",
       "      <th>516056</th>\n",
       "      <td>6881</td>\n",
       "      <td>113261</td>\n",
       "      <td>38038</td>\n",
       "      <td>513.80</td>\n",
       "      <td>172652.0</td>\n",
       "      <td>457</td>\n",
       "      <td>59333</td>\n",
       "      <td>0</td>\n",
       "    </tr>\n",
       "    <tr>\n",
       "      <th>4376</th>\n",
       "      <td>0</td>\n",
       "      <td>134508</td>\n",
       "      <td>45725</td>\n",
       "      <td>465.62</td>\n",
       "      <td>105114.0</td>\n",
       "      <td>451</td>\n",
       "      <td>0</td>\n",
       "      <td>5817</td>\n",
       "    </tr>\n",
       "    <tr>\n",
       "      <th>483434</th>\n",
       "      <td>6881</td>\n",
       "      <td>15408</td>\n",
       "      <td>188328</td>\n",
       "      <td>513.80</td>\n",
       "      <td>152458.0</td>\n",
       "      <td>457</td>\n",
       "      <td>59333</td>\n",
       "      <td>0</td>\n",
       "    </tr>\n",
       "    <tr>\n",
       "      <th>1407164</th>\n",
       "      <td>6716</td>\n",
       "      <td>157159</td>\n",
       "      <td>29967</td>\n",
       "      <td>1016.11</td>\n",
       "      <td>172946.0</td>\n",
       "      <td>247</td>\n",
       "      <td>50436</td>\n",
       "      <td>3281</td>\n",
       "    </tr>\n",
       "    <tr>\n",
       "      <th>1051004</th>\n",
       "      <td>5975</td>\n",
       "      <td>105985</td>\n",
       "      <td>81305</td>\n",
       "      <td>713.66</td>\n",
       "      <td>182129.0</td>\n",
       "      <td>263</td>\n",
       "      <td>93775</td>\n",
       "      <td>5817</td>\n",
       "    </tr>\n",
       "  </tbody>\n",
       "</table>\n",
       "</div>"
      ],
      "text/plain": [
       "         acqic   bacno    cano    conam     loctm  mcc  mchno  scity\n",
       "txkey                                                               \n",
       "516056    6881  113261   38038   513.80  172652.0  457  59333      0\n",
       "4376         0  134508   45725   465.62  105114.0  451      0   5817\n",
       "483434    6881   15408  188328   513.80  152458.0  457  59333      0\n",
       "1407164   6716  157159   29967  1016.11  172946.0  247  50436   3281\n",
       "1051004   5975  105985   81305   713.66  182129.0  263  93775   5817"
      ]
     },
     "execution_count": 11,
     "metadata": {},
     "output_type": "execute_result"
    }
   ],
   "source": [
    "df_cont = df[col_names_cont].copy()\n",
    "df_cont.head()"
   ]
  },
  {
   "cell_type": "code",
   "execution_count": 12,
   "metadata": {
    "colab": {
     "base_uri": "https://localhost:8080/"
    },
    "executionInfo": {
     "elapsed": 1639,
     "status": "ok",
     "timestamp": 1622631637280,
     "user": {
      "displayName": "109碩-林晉宇",
      "photoUrl": "https://lh3.googleusercontent.com/a-/AOh14GgGsspHeoi1jM836wy9pusH3l_wWXgPgiTcB1Up=s64",
      "userId": "07848351159291208652"
     },
     "user_tz": -480
    },
    "id": "SMqCSYV84fOQ",
    "outputId": "0c25d489-1c0d-4386-c58a-66b7fad41df3"
   },
   "outputs": [
    {
     "data": {
      "text/plain": [
       "((1943452, 8), numpy.ndarray)"
      ]
     },
     "execution_count": 12,
     "metadata": {},
     "output_type": "execute_result"
    }
   ],
   "source": [
    "from sklearn.preprocessing import StandardScaler\n",
    "scaler = StandardScaler()\n",
    "X_cont = scaler.fit_transform(df_cont)\n",
    "X_cont.shape, type(X_cont)"
   ]
  },
  {
   "cell_type": "code",
   "execution_count": 13,
   "metadata": {
    "colab": {
     "base_uri": "https://localhost:8080/",
     "height": 228
    },
    "executionInfo": {
     "elapsed": 8,
     "status": "ok",
     "timestamp": 1622631637281,
     "user": {
      "displayName": "109碩-林晉宇",
      "photoUrl": "https://lh3.googleusercontent.com/a-/AOh14GgGsspHeoi1jM836wy9pusH3l_wWXgPgiTcB1Up=s64",
      "userId": "07848351159291208652"
     },
     "user_tz": -480
    },
    "id": "CC6JjceM4fOQ",
    "outputId": "d77d8d38-572a-4141-bbac-3e3cf92dd0c3"
   },
   "outputs": [
    {
     "data": {
      "text/html": [
       "<div>\n",
       "<style scoped>\n",
       "    .dataframe tbody tr th:only-of-type {\n",
       "        vertical-align: middle;\n",
       "    }\n",
       "\n",
       "    .dataframe tbody tr th {\n",
       "        vertical-align: top;\n",
       "    }\n",
       "\n",
       "    .dataframe thead th {\n",
       "        text-align: right;\n",
       "    }\n",
       "</style>\n",
       "<table border=\"1\" class=\"dataframe\">\n",
       "  <thead>\n",
       "    <tr style=\"text-align: right;\">\n",
       "      <th></th>\n",
       "      <th>acqic</th>\n",
       "      <th>bacno</th>\n",
       "      <th>cano</th>\n",
       "      <th>conam</th>\n",
       "      <th>loctm</th>\n",
       "      <th>mcc</th>\n",
       "      <th>mchno</th>\n",
       "      <th>scity</th>\n",
       "    </tr>\n",
       "    <tr>\n",
       "      <th>txkey</th>\n",
       "      <th></th>\n",
       "      <th></th>\n",
       "      <th></th>\n",
       "      <th></th>\n",
       "      <th></th>\n",
       "      <th></th>\n",
       "      <th></th>\n",
       "      <th></th>\n",
       "    </tr>\n",
       "  </thead>\n",
       "  <tbody>\n",
       "    <tr>\n",
       "      <th>516056</th>\n",
       "      <td>0.582079</td>\n",
       "      <td>0.658734</td>\n",
       "      <td>-1.162081</td>\n",
       "      <td>-0.341794</td>\n",
       "      <td>0.509681</td>\n",
       "      <td>2.028863</td>\n",
       "      <td>0.111604</td>\n",
       "      <td>-2.398364</td>\n",
       "    </tr>\n",
       "    <tr>\n",
       "      <th>4376</th>\n",
       "      <td>-3.987783</td>\n",
       "      <td>1.107708</td>\n",
       "      <td>-1.036278</td>\n",
       "      <td>-0.461282</td>\n",
       "      <td>-0.782179</td>\n",
       "      <td>1.952344</td>\n",
       "      <td>-1.812952</td>\n",
       "      <td>0.536031</td>\n",
       "    </tr>\n",
       "    <tr>\n",
       "      <th>483434</th>\n",
       "      <td>0.582079</td>\n",
       "      <td>-1.409013</td>\n",
       "      <td>1.297514</td>\n",
       "      <td>-0.341794</td>\n",
       "      <td>0.123412</td>\n",
       "      <td>2.028863</td>\n",
       "      <td>0.111604</td>\n",
       "      <td>-2.398364</td>\n",
       "    </tr>\n",
       "    <tr>\n",
       "      <th>1407164</th>\n",
       "      <td>0.472498</td>\n",
       "      <td>1.586350</td>\n",
       "      <td>-1.294169</td>\n",
       "      <td>0.903959</td>\n",
       "      <td>0.515305</td>\n",
       "      <td>-0.649316</td>\n",
       "      <td>-0.176983</td>\n",
       "      <td>-0.743258</td>\n",
       "    </tr>\n",
       "    <tr>\n",
       "      <th>1051004</th>\n",
       "      <td>-0.019621</td>\n",
       "      <td>0.504984</td>\n",
       "      <td>-0.453988</td>\n",
       "      <td>0.153869</td>\n",
       "      <td>0.690956</td>\n",
       "      <td>-0.445264</td>\n",
       "      <td>1.228783</td>\n",
       "      <td>0.536031</td>\n",
       "    </tr>\n",
       "  </tbody>\n",
       "</table>\n",
       "</div>"
      ],
      "text/plain": [
       "            acqic     bacno      cano     conam     loctm       mcc     mchno  \\\n",
       "txkey                                                                           \n",
       "516056   0.582079  0.658734 -1.162081 -0.341794  0.509681  2.028863  0.111604   \n",
       "4376    -3.987783  1.107708 -1.036278 -0.461282 -0.782179  1.952344 -1.812952   \n",
       "483434   0.582079 -1.409013  1.297514 -0.341794  0.123412  2.028863  0.111604   \n",
       "1407164  0.472498  1.586350 -1.294169  0.903959  0.515305 -0.649316 -0.176983   \n",
       "1051004 -0.019621  0.504984 -0.453988  0.153869  0.690956 -0.445264  1.228783   \n",
       "\n",
       "            scity  \n",
       "txkey              \n",
       "516056  -2.398364  \n",
       "4376     0.536031  \n",
       "483434  -2.398364  \n",
       "1407164 -0.743258  \n",
       "1051004  0.536031  "
      ]
     },
     "execution_count": 13,
     "metadata": {},
     "output_type": "execute_result"
    }
   ],
   "source": [
    "df_cont = pd.DataFrame(data=X_cont, index=df.index, columns=col_names_cont)\n",
    "df_cont.head()"
   ]
  },
  {
   "cell_type": "code",
   "execution_count": 14,
   "metadata": {
    "colab": {
     "base_uri": "https://localhost:8080/",
     "height": 308
    },
    "executionInfo": {
     "elapsed": 983,
     "status": "ok",
     "timestamp": 1622631645732,
     "user": {
      "displayName": "109碩-林晉宇",
      "photoUrl": "https://lh3.googleusercontent.com/a-/AOh14GgGsspHeoi1jM836wy9pusH3l_wWXgPgiTcB1Up=s64",
      "userId": "07848351159291208652"
     },
     "user_tz": -480
    },
    "id": "Qq5Ep75rH6V9",
    "outputId": "d02eae70-ddf7-4911-ddcd-b62b9cbfa05c"
   },
   "outputs": [
    {
     "data": {
      "text/html": [
       "<div>\n",
       "<style scoped>\n",
       "    .dataframe tbody tr th:only-of-type {\n",
       "        vertical-align: middle;\n",
       "    }\n",
       "\n",
       "    .dataframe tbody tr th {\n",
       "        vertical-align: top;\n",
       "    }\n",
       "\n",
       "    .dataframe thead th {\n",
       "        text-align: right;\n",
       "    }\n",
       "</style>\n",
       "<table border=\"1\" class=\"dataframe\">\n",
       "  <thead>\n",
       "    <tr style=\"text-align: right;\">\n",
       "      <th></th>\n",
       "      <th>acqic</th>\n",
       "      <th>bacno</th>\n",
       "      <th>cano</th>\n",
       "      <th>conam</th>\n",
       "      <th>loctm</th>\n",
       "      <th>mcc</th>\n",
       "      <th>mchno</th>\n",
       "      <th>scity</th>\n",
       "    </tr>\n",
       "  </thead>\n",
       "  <tbody>\n",
       "    <tr>\n",
       "      <th>count</th>\n",
       "      <td>1.943452e+06</td>\n",
       "      <td>1.943452e+06</td>\n",
       "      <td>1.943452e+06</td>\n",
       "      <td>1.943452e+06</td>\n",
       "      <td>1.943452e+06</td>\n",
       "      <td>1.943452e+06</td>\n",
       "      <td>1.943452e+06</td>\n",
       "      <td>1.943452e+06</td>\n",
       "    </tr>\n",
       "    <tr>\n",
       "      <th>mean</th>\n",
       "      <td>-5.220518e-15</td>\n",
       "      <td>3.877153e-16</td>\n",
       "      <td>-1.941865e-16</td>\n",
       "      <td>-1.708664e-14</td>\n",
       "      <td>-2.192115e-16</td>\n",
       "      <td>8.759717e-15</td>\n",
       "      <td>3.504502e-15</td>\n",
       "      <td>-5.581509e-14</td>\n",
       "    </tr>\n",
       "    <tr>\n",
       "      <th>std</th>\n",
       "      <td>1.000000e+00</td>\n",
       "      <td>1.000000e+00</td>\n",
       "      <td>1.000000e+00</td>\n",
       "      <td>1.000000e+00</td>\n",
       "      <td>1.000000e+00</td>\n",
       "      <td>1.000000e+00</td>\n",
       "      <td>1.000000e+00</td>\n",
       "      <td>1.000000e+00</td>\n",
       "    </tr>\n",
       "    <tr>\n",
       "      <th>min</th>\n",
       "      <td>-3.987783e+00</td>\n",
       "      <td>-1.734602e+00</td>\n",
       "      <td>-1.784598e+00</td>\n",
       "      <td>-1.616042e+00</td>\n",
       "      <td>-2.792789e+00</td>\n",
       "      <td>-3.799365e+00</td>\n",
       "      <td>-1.812952e+00</td>\n",
       "      <td>-2.398364e+00</td>\n",
       "    </tr>\n",
       "    <tr>\n",
       "      <th>25%</th>\n",
       "      <td>-1.497170e-02</td>\n",
       "      <td>-8.620122e-01</td>\n",
       "      <td>-8.432618e-01</td>\n",
       "      <td>-5.495224e-01</td>\n",
       "      <td>-6.801126e-01</td>\n",
       "      <td>-6.110563e-01</td>\n",
       "      <td>-7.222740e-01</td>\n",
       "      <td>-4.047713e-01</td>\n",
       "    </tr>\n",
       "    <tr>\n",
       "      <th>50%</th>\n",
       "      <td>4.472611e-01</td>\n",
       "      <td>-2.565572e-03</td>\n",
       "      <td>1.465902e-02</td>\n",
       "      <td>-1.559142e-01</td>\n",
       "      <td>1.018168e-01</td>\n",
       "      <td>-4.325110e-01</td>\n",
       "      <td>1.116044e-01</td>\n",
       "      <td>5.360308e-01</td>\n",
       "    </tr>\n",
       "    <tr>\n",
       "      <th>75%</th>\n",
       "      <td>5.076967e-01</td>\n",
       "      <td>8.637698e-01</td>\n",
       "      <td>8.694213e-01</td>\n",
       "      <td>3.742951e-01</td>\n",
       "      <td>7.603139e-01</td>\n",
       "      <td>5.749946e-01</td>\n",
       "      <td>7.560210e-01</td>\n",
       "      <td>5.360308e-01</td>\n",
       "    </tr>\n",
       "    <tr>\n",
       "      <th>max</th>\n",
       "      <td>5.840714e-01</td>\n",
       "      <td>1.728499e+00</td>\n",
       "      <td>1.710698e+00</td>\n",
       "      <td>1.626205e+01</td>\n",
       "      <td>1.720611e+00</td>\n",
       "      <td>2.054370e+00</td>\n",
       "      <td>1.537969e+00</td>\n",
       "      <td>9.668325e-01</td>\n",
       "    </tr>\n",
       "  </tbody>\n",
       "</table>\n",
       "</div>"
      ],
      "text/plain": [
       "              acqic         bacno          cano         conam         loctm  \\\n",
       "count  1.943452e+06  1.943452e+06  1.943452e+06  1.943452e+06  1.943452e+06   \n",
       "mean  -5.220518e-15  3.877153e-16 -1.941865e-16 -1.708664e-14 -2.192115e-16   \n",
       "std    1.000000e+00  1.000000e+00  1.000000e+00  1.000000e+00  1.000000e+00   \n",
       "min   -3.987783e+00 -1.734602e+00 -1.784598e+00 -1.616042e+00 -2.792789e+00   \n",
       "25%   -1.497170e-02 -8.620122e-01 -8.432618e-01 -5.495224e-01 -6.801126e-01   \n",
       "50%    4.472611e-01 -2.565572e-03  1.465902e-02 -1.559142e-01  1.018168e-01   \n",
       "75%    5.076967e-01  8.637698e-01  8.694213e-01  3.742951e-01  7.603139e-01   \n",
       "max    5.840714e-01  1.728499e+00  1.710698e+00  1.626205e+01  1.720611e+00   \n",
       "\n",
       "                mcc         mchno         scity  \n",
       "count  1.943452e+06  1.943452e+06  1.943452e+06  \n",
       "mean   8.759717e-15  3.504502e-15 -5.581509e-14  \n",
       "std    1.000000e+00  1.000000e+00  1.000000e+00  \n",
       "min   -3.799365e+00 -1.812952e+00 -2.398364e+00  \n",
       "25%   -6.110563e-01 -7.222740e-01 -4.047713e-01  \n",
       "50%   -4.325110e-01  1.116044e-01  5.360308e-01  \n",
       "75%    5.749946e-01  7.560210e-01  5.360308e-01  \n",
       "max    2.054370e+00  1.537969e+00  9.668325e-01  "
      ]
     },
     "execution_count": 14,
     "metadata": {},
     "output_type": "execute_result"
    }
   ],
   "source": [
    "df_cont.describe()"
   ]
  },
  {
   "cell_type": "markdown",
   "metadata": {
    "id": "9dcbtZgx4fOR"
   },
   "source": [
    "## 類別型"
   ]
  },
  {
   "cell_type": "code",
   "execution_count": 15,
   "metadata": {
    "colab": {
     "base_uri": "https://localhost:8080/",
     "height": 228
    },
    "executionInfo": {
     "elapsed": 431,
     "status": "ok",
     "timestamp": 1622631649263,
     "user": {
      "displayName": "109碩-林晉宇",
      "photoUrl": "https://lh3.googleusercontent.com/a-/AOh14GgGsspHeoi1jM836wy9pusH3l_wWXgPgiTcB1Up=s64",
      "userId": "07848351159291208652"
     },
     "user_tz": -480
    },
    "id": "u_1uF5DZ4fOT",
    "outputId": "2e99b1b5-f797-4ad6-b319-5eb0a1d814a7"
   },
   "outputs": [
    {
     "data": {
      "text/html": [
       "<div>\n",
       "<style scoped>\n",
       "    .dataframe tbody tr th:only-of-type {\n",
       "        vertical-align: middle;\n",
       "    }\n",
       "\n",
       "    .dataframe tbody tr th {\n",
       "        vertical-align: top;\n",
       "    }\n",
       "\n",
       "    .dataframe thead th {\n",
       "        text-align: right;\n",
       "    }\n",
       "</style>\n",
       "<table border=\"1\" class=\"dataframe\">\n",
       "  <thead>\n",
       "    <tr style=\"text-align: right;\">\n",
       "      <th></th>\n",
       "      <th>contp</th>\n",
       "      <th>csmcu</th>\n",
       "      <th>ecfg</th>\n",
       "      <th>etymd</th>\n",
       "      <th>flbmk</th>\n",
       "      <th>flg_3dsmk</th>\n",
       "      <th>hcefg</th>\n",
       "      <th>insfg</th>\n",
       "      <th>iterm</th>\n",
       "      <th>locdt</th>\n",
       "      <th>ovrlt</th>\n",
       "      <th>stocn</th>\n",
       "      <th>stscd</th>\n",
       "    </tr>\n",
       "    <tr>\n",
       "      <th>txkey</th>\n",
       "      <th></th>\n",
       "      <th></th>\n",
       "      <th></th>\n",
       "      <th></th>\n",
       "      <th></th>\n",
       "      <th></th>\n",
       "      <th></th>\n",
       "      <th></th>\n",
       "      <th></th>\n",
       "      <th></th>\n",
       "      <th></th>\n",
       "      <th></th>\n",
       "      <th></th>\n",
       "    </tr>\n",
       "  </thead>\n",
       "  <tbody>\n",
       "    <tr>\n",
       "      <th>516056</th>\n",
       "      <td>5</td>\n",
       "      <td>0</td>\n",
       "      <td>N</td>\n",
       "      <td>0</td>\n",
       "      <td>N</td>\n",
       "      <td>N</td>\n",
       "      <td>5</td>\n",
       "      <td>N</td>\n",
       "      <td>0</td>\n",
       "      <td>33</td>\n",
       "      <td>N</td>\n",
       "      <td>102</td>\n",
       "      <td>0</td>\n",
       "    </tr>\n",
       "    <tr>\n",
       "      <th>4376</th>\n",
       "      <td>5</td>\n",
       "      <td>0</td>\n",
       "      <td>N</td>\n",
       "      <td>2</td>\n",
       "      <td>N</td>\n",
       "      <td>N</td>\n",
       "      <td>0</td>\n",
       "      <td>N</td>\n",
       "      <td>0</td>\n",
       "      <td>9</td>\n",
       "      <td>N</td>\n",
       "      <td>102</td>\n",
       "      <td>0</td>\n",
       "    </tr>\n",
       "    <tr>\n",
       "      <th>483434</th>\n",
       "      <td>5</td>\n",
       "      <td>0</td>\n",
       "      <td>N</td>\n",
       "      <td>0</td>\n",
       "      <td>N</td>\n",
       "      <td>N</td>\n",
       "      <td>5</td>\n",
       "      <td>N</td>\n",
       "      <td>0</td>\n",
       "      <td>6</td>\n",
       "      <td>N</td>\n",
       "      <td>102</td>\n",
       "      <td>0</td>\n",
       "    </tr>\n",
       "    <tr>\n",
       "      <th>1407164</th>\n",
       "      <td>5</td>\n",
       "      <td>62</td>\n",
       "      <td>N</td>\n",
       "      <td>5</td>\n",
       "      <td>N</td>\n",
       "      <td>N</td>\n",
       "      <td>5</td>\n",
       "      <td>N</td>\n",
       "      <td>0</td>\n",
       "      <td>5</td>\n",
       "      <td>N</td>\n",
       "      <td>102</td>\n",
       "      <td>0</td>\n",
       "    </tr>\n",
       "    <tr>\n",
       "      <th>1051004</th>\n",
       "      <td>5</td>\n",
       "      <td>62</td>\n",
       "      <td>N</td>\n",
       "      <td>4</td>\n",
       "      <td>N</td>\n",
       "      <td>N</td>\n",
       "      <td>5</td>\n",
       "      <td>N</td>\n",
       "      <td>0</td>\n",
       "      <td>6</td>\n",
       "      <td>N</td>\n",
       "      <td>102</td>\n",
       "      <td>0</td>\n",
       "    </tr>\n",
       "  </tbody>\n",
       "</table>\n",
       "</div>"
      ],
      "text/plain": [
       "         contp  csmcu ecfg  etymd flbmk flg_3dsmk  hcefg insfg  iterm  locdt  \\\n",
       "txkey                                                                          \n",
       "516056       5      0    N      0     N         N      5     N      0     33   \n",
       "4376         5      0    N      2     N         N      0     N      0      9   \n",
       "483434       5      0    N      0     N         N      5     N      0      6   \n",
       "1407164      5     62    N      5     N         N      5     N      0      5   \n",
       "1051004      5     62    N      4     N         N      5     N      0      6   \n",
       "\n",
       "        ovrlt  stocn  stscd  \n",
       "txkey                        \n",
       "516056      N    102      0  \n",
       "4376        N    102      0  \n",
       "483434      N    102      0  \n",
       "1407164     N    102      0  \n",
       "1051004     N    102      0  "
      ]
     },
     "execution_count": 15,
     "metadata": {},
     "output_type": "execute_result"
    }
   ],
   "source": [
    "df_disc = df[col_names_disc].copy()\n",
    "df_disc.head()"
   ]
  },
  {
   "cell_type": "code",
   "execution_count": 16,
   "metadata": {
    "colab": {
     "base_uri": "https://localhost:8080/"
    },
    "executionInfo": {
     "elapsed": 382,
     "status": "ok",
     "timestamp": 1622631651596,
     "user": {
      "displayName": "109碩-林晉宇",
      "photoUrl": "https://lh3.googleusercontent.com/a-/AOh14GgGsspHeoi1jM836wy9pusH3l_wWXgPgiTcB1Up=s64",
      "userId": "07848351159291208652"
     },
     "user_tz": -480
    },
    "id": "FNBNUBCc4fOU",
    "outputId": "be66713f-3cc7-4e3c-d14b-9b1412fef6d6"
   },
   "outputs": [
    {
     "data": {
      "text/plain": [
       "(1943452, 13)"
      ]
     },
     "execution_count": 16,
     "metadata": {},
     "output_type": "execute_result"
    }
   ],
   "source": [
    "df_disc.shape"
   ]
  },
  {
   "cell_type": "code",
   "execution_count": 17,
   "metadata": {
    "colab": {
     "base_uri": "https://localhost:8080/",
     "height": 228
    },
    "executionInfo": {
     "elapsed": 3291,
     "status": "ok",
     "timestamp": 1622631656854,
     "user": {
      "displayName": "109碩-林晉宇",
      "photoUrl": "https://lh3.googleusercontent.com/a-/AOh14GgGsspHeoi1jM836wy9pusH3l_wWXgPgiTcB1Up=s64",
      "userId": "07848351159291208652"
     },
     "user_tz": -480
    },
    "id": "eRhuWrWP4fOU",
    "outputId": "febb6162-7748-4fb0-8e02-81c17fa6acf4"
   },
   "outputs": [
    {
     "data": {
      "text/html": [
       "<div>\n",
       "<style scoped>\n",
       "    .dataframe tbody tr th:only-of-type {\n",
       "        vertical-align: middle;\n",
       "    }\n",
       "\n",
       "    .dataframe tbody tr th {\n",
       "        vertical-align: top;\n",
       "    }\n",
       "\n",
       "    .dataframe thead th {\n",
       "        text-align: right;\n",
       "    }\n",
       "</style>\n",
       "<table border=\"1\" class=\"dataframe\">\n",
       "  <thead>\n",
       "    <tr style=\"text-align: right;\">\n",
       "      <th></th>\n",
       "      <th>contp</th>\n",
       "      <th>csmcu</th>\n",
       "      <th>ecfg</th>\n",
       "      <th>etymd</th>\n",
       "      <th>flbmk</th>\n",
       "      <th>flg_3dsmk</th>\n",
       "      <th>hcefg</th>\n",
       "      <th>insfg</th>\n",
       "      <th>iterm</th>\n",
       "      <th>locdt</th>\n",
       "      <th>ovrlt</th>\n",
       "      <th>stocn</th>\n",
       "      <th>stscd</th>\n",
       "    </tr>\n",
       "    <tr>\n",
       "      <th>txkey</th>\n",
       "      <th></th>\n",
       "      <th></th>\n",
       "      <th></th>\n",
       "      <th></th>\n",
       "      <th></th>\n",
       "      <th></th>\n",
       "      <th></th>\n",
       "      <th></th>\n",
       "      <th></th>\n",
       "      <th></th>\n",
       "      <th></th>\n",
       "      <th></th>\n",
       "      <th></th>\n",
       "    </tr>\n",
       "  </thead>\n",
       "  <tbody>\n",
       "    <tr>\n",
       "      <th>516056</th>\n",
       "      <td>5</td>\n",
       "      <td>0</td>\n",
       "      <td>0</td>\n",
       "      <td>0</td>\n",
       "      <td>0</td>\n",
       "      <td>0</td>\n",
       "      <td>5</td>\n",
       "      <td>0</td>\n",
       "      <td>0</td>\n",
       "      <td>32</td>\n",
       "      <td>0</td>\n",
       "      <td>102</td>\n",
       "      <td>0</td>\n",
       "    </tr>\n",
       "    <tr>\n",
       "      <th>4376</th>\n",
       "      <td>5</td>\n",
       "      <td>0</td>\n",
       "      <td>0</td>\n",
       "      <td>2</td>\n",
       "      <td>0</td>\n",
       "      <td>0</td>\n",
       "      <td>0</td>\n",
       "      <td>0</td>\n",
       "      <td>0</td>\n",
       "      <td>8</td>\n",
       "      <td>0</td>\n",
       "      <td>102</td>\n",
       "      <td>0</td>\n",
       "    </tr>\n",
       "    <tr>\n",
       "      <th>483434</th>\n",
       "      <td>5</td>\n",
       "      <td>0</td>\n",
       "      <td>0</td>\n",
       "      <td>0</td>\n",
       "      <td>0</td>\n",
       "      <td>0</td>\n",
       "      <td>5</td>\n",
       "      <td>0</td>\n",
       "      <td>0</td>\n",
       "      <td>5</td>\n",
       "      <td>0</td>\n",
       "      <td>102</td>\n",
       "      <td>0</td>\n",
       "    </tr>\n",
       "    <tr>\n",
       "      <th>1407164</th>\n",
       "      <td>5</td>\n",
       "      <td>62</td>\n",
       "      <td>0</td>\n",
       "      <td>5</td>\n",
       "      <td>0</td>\n",
       "      <td>0</td>\n",
       "      <td>5</td>\n",
       "      <td>0</td>\n",
       "      <td>0</td>\n",
       "      <td>4</td>\n",
       "      <td>0</td>\n",
       "      <td>102</td>\n",
       "      <td>0</td>\n",
       "    </tr>\n",
       "    <tr>\n",
       "      <th>1051004</th>\n",
       "      <td>5</td>\n",
       "      <td>62</td>\n",
       "      <td>0</td>\n",
       "      <td>4</td>\n",
       "      <td>0</td>\n",
       "      <td>0</td>\n",
       "      <td>5</td>\n",
       "      <td>0</td>\n",
       "      <td>0</td>\n",
       "      <td>5</td>\n",
       "      <td>0</td>\n",
       "      <td>102</td>\n",
       "      <td>0</td>\n",
       "    </tr>\n",
       "  </tbody>\n",
       "</table>\n",
       "</div>"
      ],
      "text/plain": [
       "         contp  csmcu  ecfg  etymd  flbmk  flg_3dsmk  hcefg  insfg  iterm  \\\n",
       "txkey                                                                       \n",
       "516056       5      0     0      0      0          0      5      0      0   \n",
       "4376         5      0     0      2      0          0      0      0      0   \n",
       "483434       5      0     0      0      0          0      5      0      0   \n",
       "1407164      5     62     0      5      0          0      5      0      0   \n",
       "1051004      5     62     0      4      0          0      5      0      0   \n",
       "\n",
       "         locdt  ovrlt  stocn  stscd  \n",
       "txkey                                \n",
       "516056      32      0    102      0  \n",
       "4376         8      0    102      0  \n",
       "483434       5      0    102      0  \n",
       "1407164      4      0    102      0  \n",
       "1051004      5      0    102      0  "
      ]
     },
     "execution_count": 17,
     "metadata": {},
     "output_type": "execute_result"
    }
   ],
   "source": [
    "from sklearn.preprocessing import LabelEncoder\n",
    "les = {}\n",
    "for c in col_names_disc:\n",
    "    le = LabelEncoder()\n",
    "    df_disc.loc[:,c] = le.fit_transform(df_disc.loc[:,c])\n",
    "    les.update({c:le})\n",
    "df_disc.head()"
   ]
  },
  {
   "cell_type": "code",
   "execution_count": 18,
   "metadata": {
    "colab": {
     "base_uri": "https://localhost:8080/",
     "height": 308
    },
    "executionInfo": {
     "elapsed": 927,
     "status": "ok",
     "timestamp": 1622631666055,
     "user": {
      "displayName": "109碩-林晉宇",
      "photoUrl": "https://lh3.googleusercontent.com/a-/AOh14GgGsspHeoi1jM836wy9pusH3l_wWXgPgiTcB1Up=s64",
      "userId": "07848351159291208652"
     },
     "user_tz": -480
    },
    "id": "lp5GEOPpSXY0",
    "outputId": "904ec37d-1dcb-4e79-8921-5dac7621567e"
   },
   "outputs": [
    {
     "data": {
      "text/html": [
       "<div>\n",
       "<style scoped>\n",
       "    .dataframe tbody tr th:only-of-type {\n",
       "        vertical-align: middle;\n",
       "    }\n",
       "\n",
       "    .dataframe tbody tr th {\n",
       "        vertical-align: top;\n",
       "    }\n",
       "\n",
       "    .dataframe thead th {\n",
       "        text-align: right;\n",
       "    }\n",
       "</style>\n",
       "<table border=\"1\" class=\"dataframe\">\n",
       "  <thead>\n",
       "    <tr style=\"text-align: right;\">\n",
       "      <th></th>\n",
       "      <th>contp</th>\n",
       "      <th>csmcu</th>\n",
       "      <th>ecfg</th>\n",
       "      <th>etymd</th>\n",
       "      <th>flbmk</th>\n",
       "      <th>flg_3dsmk</th>\n",
       "      <th>hcefg</th>\n",
       "      <th>insfg</th>\n",
       "      <th>iterm</th>\n",
       "      <th>locdt</th>\n",
       "      <th>ovrlt</th>\n",
       "      <th>stocn</th>\n",
       "      <th>stscd</th>\n",
       "    </tr>\n",
       "  </thead>\n",
       "  <tbody>\n",
       "    <tr>\n",
       "      <th>count</th>\n",
       "      <td>1.943452e+06</td>\n",
       "      <td>1.943452e+06</td>\n",
       "      <td>1.943452e+06</td>\n",
       "      <td>1.943452e+06</td>\n",
       "      <td>1.943452e+06</td>\n",
       "      <td>1.943452e+06</td>\n",
       "      <td>1.943452e+06</td>\n",
       "      <td>1.943452e+06</td>\n",
       "      <td>1.943452e+06</td>\n",
       "      <td>1.943452e+06</td>\n",
       "      <td>1.943452e+06</td>\n",
       "      <td>1.943452e+06</td>\n",
       "      <td>1.943452e+06</td>\n",
       "    </tr>\n",
       "    <tr>\n",
       "      <th>mean</th>\n",
       "      <td>4.825625e+00</td>\n",
       "      <td>5.378875e+01</td>\n",
       "      <td>2.566027e-01</td>\n",
       "      <td>4.142680e+00</td>\n",
       "      <td>1.496615e-02</td>\n",
       "      <td>9.537771e-02</td>\n",
       "      <td>4.748365e+00</td>\n",
       "      <td>2.708840e-02</td>\n",
       "      <td>4.841128e-02</td>\n",
       "      <td>5.739281e+01</td>\n",
       "      <td>1.292391e-02</td>\n",
       "      <td>9.562308e+01</td>\n",
       "      <td>2.475286e-02</td>\n",
       "    </tr>\n",
       "    <tr>\n",
       "      <th>std</th>\n",
       "      <td>6.557577e-01</td>\n",
       "      <td>2.076681e+01</td>\n",
       "      <td>4.367583e-01</td>\n",
       "      <td>2.402570e+00</td>\n",
       "      <td>1.460248e-01</td>\n",
       "      <td>4.162614e-01</td>\n",
       "      <td>1.114383e+00</td>\n",
       "      <td>1.623411e-01</td>\n",
       "      <td>3.615652e-01</td>\n",
       "      <td>3.409522e+01</td>\n",
       "      <td>1.129464e-01</td>\n",
       "      <td>1.896446e+01</td>\n",
       "      <td>2.211643e-01</td>\n",
       "    </tr>\n",
       "    <tr>\n",
       "      <th>min</th>\n",
       "      <td>0.000000e+00</td>\n",
       "      <td>0.000000e+00</td>\n",
       "      <td>0.000000e+00</td>\n",
       "      <td>0.000000e+00</td>\n",
       "      <td>0.000000e+00</td>\n",
       "      <td>0.000000e+00</td>\n",
       "      <td>0.000000e+00</td>\n",
       "      <td>0.000000e+00</td>\n",
       "      <td>0.000000e+00</td>\n",
       "      <td>0.000000e+00</td>\n",
       "      <td>0.000000e+00</td>\n",
       "      <td>0.000000e+00</td>\n",
       "      <td>0.000000e+00</td>\n",
       "    </tr>\n",
       "    <tr>\n",
       "      <th>25%</th>\n",
       "      <td>5.000000e+00</td>\n",
       "      <td>6.200000e+01</td>\n",
       "      <td>0.000000e+00</td>\n",
       "      <td>2.000000e+00</td>\n",
       "      <td>0.000000e+00</td>\n",
       "      <td>0.000000e+00</td>\n",
       "      <td>5.000000e+00</td>\n",
       "      <td>0.000000e+00</td>\n",
       "      <td>0.000000e+00</td>\n",
       "      <td>2.800000e+01</td>\n",
       "      <td>0.000000e+00</td>\n",
       "      <td>1.020000e+02</td>\n",
       "      <td>0.000000e+00</td>\n",
       "    </tr>\n",
       "    <tr>\n",
       "      <th>50%</th>\n",
       "      <td>5.000000e+00</td>\n",
       "      <td>6.200000e+01</td>\n",
       "      <td>0.000000e+00</td>\n",
       "      <td>4.000000e+00</td>\n",
       "      <td>0.000000e+00</td>\n",
       "      <td>0.000000e+00</td>\n",
       "      <td>5.000000e+00</td>\n",
       "      <td>0.000000e+00</td>\n",
       "      <td>0.000000e+00</td>\n",
       "      <td>5.700000e+01</td>\n",
       "      <td>0.000000e+00</td>\n",
       "      <td>1.020000e+02</td>\n",
       "      <td>0.000000e+00</td>\n",
       "    </tr>\n",
       "    <tr>\n",
       "      <th>75%</th>\n",
       "      <td>5.000000e+00</td>\n",
       "      <td>6.200000e+01</td>\n",
       "      <td>1.000000e+00</td>\n",
       "      <td>5.000000e+00</td>\n",
       "      <td>0.000000e+00</td>\n",
       "      <td>0.000000e+00</td>\n",
       "      <td>5.000000e+00</td>\n",
       "      <td>0.000000e+00</td>\n",
       "      <td>0.000000e+00</td>\n",
       "      <td>8.600000e+01</td>\n",
       "      <td>0.000000e+00</td>\n",
       "      <td>1.020000e+02</td>\n",
       "      <td>0.000000e+00</td>\n",
       "    </tr>\n",
       "    <tr>\n",
       "      <th>max</th>\n",
       "      <td>6.000000e+00</td>\n",
       "      <td>7.500000e+01</td>\n",
       "      <td>1.000000e+00</td>\n",
       "      <td>1.000000e+01</td>\n",
       "      <td>2.000000e+00</td>\n",
       "      <td>2.000000e+00</td>\n",
       "      <td>9.000000e+00</td>\n",
       "      <td>1.000000e+00</td>\n",
       "      <td>8.000000e+00</td>\n",
       "      <td>1.190000e+02</td>\n",
       "      <td>1.000000e+00</td>\n",
       "      <td>1.080000e+02</td>\n",
       "      <td>4.000000e+00</td>\n",
       "    </tr>\n",
       "  </tbody>\n",
       "</table>\n",
       "</div>"
      ],
      "text/plain": [
       "              contp         csmcu          ecfg         etymd         flbmk  \\\n",
       "count  1.943452e+06  1.943452e+06  1.943452e+06  1.943452e+06  1.943452e+06   \n",
       "mean   4.825625e+00  5.378875e+01  2.566027e-01  4.142680e+00  1.496615e-02   \n",
       "std    6.557577e-01  2.076681e+01  4.367583e-01  2.402570e+00  1.460248e-01   \n",
       "min    0.000000e+00  0.000000e+00  0.000000e+00  0.000000e+00  0.000000e+00   \n",
       "25%    5.000000e+00  6.200000e+01  0.000000e+00  2.000000e+00  0.000000e+00   \n",
       "50%    5.000000e+00  6.200000e+01  0.000000e+00  4.000000e+00  0.000000e+00   \n",
       "75%    5.000000e+00  6.200000e+01  1.000000e+00  5.000000e+00  0.000000e+00   \n",
       "max    6.000000e+00  7.500000e+01  1.000000e+00  1.000000e+01  2.000000e+00   \n",
       "\n",
       "          flg_3dsmk         hcefg         insfg         iterm         locdt  \\\n",
       "count  1.943452e+06  1.943452e+06  1.943452e+06  1.943452e+06  1.943452e+06   \n",
       "mean   9.537771e-02  4.748365e+00  2.708840e-02  4.841128e-02  5.739281e+01   \n",
       "std    4.162614e-01  1.114383e+00  1.623411e-01  3.615652e-01  3.409522e+01   \n",
       "min    0.000000e+00  0.000000e+00  0.000000e+00  0.000000e+00  0.000000e+00   \n",
       "25%    0.000000e+00  5.000000e+00  0.000000e+00  0.000000e+00  2.800000e+01   \n",
       "50%    0.000000e+00  5.000000e+00  0.000000e+00  0.000000e+00  5.700000e+01   \n",
       "75%    0.000000e+00  5.000000e+00  0.000000e+00  0.000000e+00  8.600000e+01   \n",
       "max    2.000000e+00  9.000000e+00  1.000000e+00  8.000000e+00  1.190000e+02   \n",
       "\n",
       "              ovrlt         stocn         stscd  \n",
       "count  1.943452e+06  1.943452e+06  1.943452e+06  \n",
       "mean   1.292391e-02  9.562308e+01  2.475286e-02  \n",
       "std    1.129464e-01  1.896446e+01  2.211643e-01  \n",
       "min    0.000000e+00  0.000000e+00  0.000000e+00  \n",
       "25%    0.000000e+00  1.020000e+02  0.000000e+00  \n",
       "50%    0.000000e+00  1.020000e+02  0.000000e+00  \n",
       "75%    0.000000e+00  1.020000e+02  0.000000e+00  \n",
       "max    1.000000e+00  1.080000e+02  4.000000e+00  "
      ]
     },
     "execution_count": 18,
     "metadata": {},
     "output_type": "execute_result"
    }
   ],
   "source": [
    "df_disc.describe()"
   ]
  },
  {
   "cell_type": "code",
   "execution_count": 19,
   "metadata": {
    "colab": {
     "base_uri": "https://localhost:8080/"
    },
    "executionInfo": {
     "elapsed": 979,
     "status": "ok",
     "timestamp": 1622631670156,
     "user": {
      "displayName": "109碩-林晉宇",
      "photoUrl": "https://lh3.googleusercontent.com/a-/AOh14GgGsspHeoi1jM836wy9pusH3l_wWXgPgiTcB1Up=s64",
      "userId": "07848351159291208652"
     },
     "user_tz": -480
    },
    "id": "mh2tLXYlTfpG",
    "outputId": "9425eab8-7297-4898-a886-76e169e5dc38"
   },
   "outputs": [
    {
     "data": {
      "text/plain": [
       "((1943452, 13), numpy.ndarray)"
      ]
     },
     "execution_count": 19,
     "metadata": {},
     "output_type": "execute_result"
    }
   ],
   "source": [
    "from sklearn.preprocessing import StandardScaler\n",
    "scaler1 = StandardScaler()\n",
    "X_disc = scaler.fit_transform(df_disc)\n",
    "X_disc.shape, type(X_disc)"
   ]
  },
  {
   "cell_type": "code",
   "execution_count": 20,
   "metadata": {
    "colab": {
     "base_uri": "https://localhost:8080/",
     "height": 248
    },
    "executionInfo": {
     "elapsed": 8,
     "status": "ok",
     "timestamp": 1622631670589,
     "user": {
      "displayName": "109碩-林晉宇",
      "photoUrl": "https://lh3.googleusercontent.com/a-/AOh14GgGsspHeoi1jM836wy9pusH3l_wWXgPgiTcB1Up=s64",
      "userId": "07848351159291208652"
     },
     "user_tz": -480
    },
    "id": "NELDp4lXTss7",
    "outputId": "ba4c3077-7165-4bd5-8569-1eb517ae9522"
   },
   "outputs": [
    {
     "data": {
      "text/html": [
       "<div>\n",
       "<style scoped>\n",
       "    .dataframe tbody tr th:only-of-type {\n",
       "        vertical-align: middle;\n",
       "    }\n",
       "\n",
       "    .dataframe tbody tr th {\n",
       "        vertical-align: top;\n",
       "    }\n",
       "\n",
       "    .dataframe thead th {\n",
       "        text-align: right;\n",
       "    }\n",
       "</style>\n",
       "<table border=\"1\" class=\"dataframe\">\n",
       "  <thead>\n",
       "    <tr style=\"text-align: right;\">\n",
       "      <th></th>\n",
       "      <th>contp</th>\n",
       "      <th>csmcu</th>\n",
       "      <th>ecfg</th>\n",
       "      <th>etymd</th>\n",
       "      <th>flbmk</th>\n",
       "      <th>flg_3dsmk</th>\n",
       "      <th>hcefg</th>\n",
       "      <th>insfg</th>\n",
       "      <th>iterm</th>\n",
       "      <th>locdt</th>\n",
       "      <th>ovrlt</th>\n",
       "      <th>stocn</th>\n",
       "      <th>stscd</th>\n",
       "    </tr>\n",
       "    <tr>\n",
       "      <th>txkey</th>\n",
       "      <th></th>\n",
       "      <th></th>\n",
       "      <th></th>\n",
       "      <th></th>\n",
       "      <th></th>\n",
       "      <th></th>\n",
       "      <th></th>\n",
       "      <th></th>\n",
       "      <th></th>\n",
       "      <th></th>\n",
       "      <th></th>\n",
       "      <th></th>\n",
       "      <th></th>\n",
       "    </tr>\n",
       "  </thead>\n",
       "  <tbody>\n",
       "    <tr>\n",
       "      <th>516056</th>\n",
       "      <td>0.265913</td>\n",
       "      <td>-2.590131</td>\n",
       "      <td>-0.587517</td>\n",
       "      <td>-1.724270</td>\n",
       "      <td>-0.10249</td>\n",
       "      <td>-0.229129</td>\n",
       "      <td>0.225806</td>\n",
       "      <td>-0.166861</td>\n",
       "      <td>-0.133894</td>\n",
       "      <td>-0.744762</td>\n",
       "      <td>-0.114425</td>\n",
       "      <td>0.336256</td>\n",
       "      <td>-0.111921</td>\n",
       "    </tr>\n",
       "    <tr>\n",
       "      <th>4376</th>\n",
       "      <td>0.265913</td>\n",
       "      <td>-2.590131</td>\n",
       "      <td>-0.587517</td>\n",
       "      <td>-0.891828</td>\n",
       "      <td>-0.10249</td>\n",
       "      <td>-0.229129</td>\n",
       "      <td>-4.260982</td>\n",
       "      <td>-0.166861</td>\n",
       "      <td>-0.133894</td>\n",
       "      <td>-1.448673</td>\n",
       "      <td>-0.114425</td>\n",
       "      <td>0.336256</td>\n",
       "      <td>-0.111921</td>\n",
       "    </tr>\n",
       "    <tr>\n",
       "      <th>483434</th>\n",
       "      <td>0.265913</td>\n",
       "      <td>-2.590131</td>\n",
       "      <td>-0.587517</td>\n",
       "      <td>-1.724270</td>\n",
       "      <td>-0.10249</td>\n",
       "      <td>-0.229129</td>\n",
       "      <td>0.225806</td>\n",
       "      <td>-0.166861</td>\n",
       "      <td>-0.133894</td>\n",
       "      <td>-1.536662</td>\n",
       "      <td>-0.114425</td>\n",
       "      <td>0.336256</td>\n",
       "      <td>-0.111921</td>\n",
       "    </tr>\n",
       "    <tr>\n",
       "      <th>1407164</th>\n",
       "      <td>0.265913</td>\n",
       "      <td>0.395402</td>\n",
       "      <td>-0.587517</td>\n",
       "      <td>0.356835</td>\n",
       "      <td>-0.10249</td>\n",
       "      <td>-0.229129</td>\n",
       "      <td>0.225806</td>\n",
       "      <td>-0.166861</td>\n",
       "      <td>-0.133894</td>\n",
       "      <td>-1.565992</td>\n",
       "      <td>-0.114425</td>\n",
       "      <td>0.336256</td>\n",
       "      <td>-0.111921</td>\n",
       "    </tr>\n",
       "    <tr>\n",
       "      <th>1051004</th>\n",
       "      <td>0.265913</td>\n",
       "      <td>0.395402</td>\n",
       "      <td>-0.587517</td>\n",
       "      <td>-0.059386</td>\n",
       "      <td>-0.10249</td>\n",
       "      <td>-0.229129</td>\n",
       "      <td>0.225806</td>\n",
       "      <td>-0.166861</td>\n",
       "      <td>-0.133894</td>\n",
       "      <td>-1.536662</td>\n",
       "      <td>-0.114425</td>\n",
       "      <td>0.336256</td>\n",
       "      <td>-0.111921</td>\n",
       "    </tr>\n",
       "  </tbody>\n",
       "</table>\n",
       "</div>"
      ],
      "text/plain": [
       "            contp     csmcu      ecfg     etymd    flbmk  flg_3dsmk     hcefg  \\\n",
       "txkey                                                                           \n",
       "516056   0.265913 -2.590131 -0.587517 -1.724270 -0.10249  -0.229129  0.225806   \n",
       "4376     0.265913 -2.590131 -0.587517 -0.891828 -0.10249  -0.229129 -4.260982   \n",
       "483434   0.265913 -2.590131 -0.587517 -1.724270 -0.10249  -0.229129  0.225806   \n",
       "1407164  0.265913  0.395402 -0.587517  0.356835 -0.10249  -0.229129  0.225806   \n",
       "1051004  0.265913  0.395402 -0.587517 -0.059386 -0.10249  -0.229129  0.225806   \n",
       "\n",
       "            insfg     iterm     locdt     ovrlt     stocn     stscd  \n",
       "txkey                                                                \n",
       "516056  -0.166861 -0.133894 -0.744762 -0.114425  0.336256 -0.111921  \n",
       "4376    -0.166861 -0.133894 -1.448673 -0.114425  0.336256 -0.111921  \n",
       "483434  -0.166861 -0.133894 -1.536662 -0.114425  0.336256 -0.111921  \n",
       "1407164 -0.166861 -0.133894 -1.565992 -0.114425  0.336256 -0.111921  \n",
       "1051004 -0.166861 -0.133894 -1.536662 -0.114425  0.336256 -0.111921  "
      ]
     },
     "execution_count": 20,
     "metadata": {},
     "output_type": "execute_result"
    }
   ],
   "source": [
    "df_disc = pd.DataFrame(X_disc, index=df.index, columns=col_names_disc)\n",
    "df_disc.head()"
   ]
  },
  {
   "cell_type": "code",
   "execution_count": 21,
   "metadata": {
    "colab": {
     "base_uri": "https://localhost:8080/",
     "height": 395
    },
    "executionInfo": {
     "elapsed": 1013,
     "status": "ok",
     "timestamp": 1622631673869,
     "user": {
      "displayName": "109碩-林晉宇",
      "photoUrl": "https://lh3.googleusercontent.com/a-/AOh14GgGsspHeoi1jM836wy9pusH3l_wWXgPgiTcB1Up=s64",
      "userId": "07848351159291208652"
     },
     "user_tz": -480
    },
    "id": "ooKUelp8Ug87",
    "outputId": "72d42a25-88fa-4e46-89e2-47725a602b97"
   },
   "outputs": [
    {
     "data": {
      "text/html": [
       "<div>\n",
       "<style scoped>\n",
       "    .dataframe tbody tr th:only-of-type {\n",
       "        vertical-align: middle;\n",
       "    }\n",
       "\n",
       "    .dataframe tbody tr th {\n",
       "        vertical-align: top;\n",
       "    }\n",
       "\n",
       "    .dataframe thead th {\n",
       "        text-align: right;\n",
       "    }\n",
       "</style>\n",
       "<table border=\"1\" class=\"dataframe\">\n",
       "  <thead>\n",
       "    <tr style=\"text-align: right;\">\n",
       "      <th></th>\n",
       "      <th>contp</th>\n",
       "      <th>csmcu</th>\n",
       "      <th>ecfg</th>\n",
       "      <th>etymd</th>\n",
       "      <th>flbmk</th>\n",
       "      <th>flg_3dsmk</th>\n",
       "      <th>hcefg</th>\n",
       "      <th>insfg</th>\n",
       "      <th>iterm</th>\n",
       "      <th>locdt</th>\n",
       "      <th>ovrlt</th>\n",
       "      <th>stocn</th>\n",
       "      <th>stscd</th>\n",
       "    </tr>\n",
       "  </thead>\n",
       "  <tbody>\n",
       "    <tr>\n",
       "      <th>count</th>\n",
       "      <td>1.943452e+06</td>\n",
       "      <td>1.943452e+06</td>\n",
       "      <td>1.943452e+06</td>\n",
       "      <td>1.943452e+06</td>\n",
       "      <td>1.943452e+06</td>\n",
       "      <td>1.943452e+06</td>\n",
       "      <td>1.943452e+06</td>\n",
       "      <td>1.943452e+06</td>\n",
       "      <td>1.943452e+06</td>\n",
       "      <td>1.943452e+06</td>\n",
       "      <td>1.943452e+06</td>\n",
       "      <td>1.943452e+06</td>\n",
       "      <td>1.943452e+06</td>\n",
       "    </tr>\n",
       "    <tr>\n",
       "      <th>mean</th>\n",
       "      <td>-5.074577e-14</td>\n",
       "      <td>-4.369482e-13</td>\n",
       "      <td>-1.955514e-14</td>\n",
       "      <td>-2.048428e-14</td>\n",
       "      <td>8.673177e-14</td>\n",
       "      <td>-5.186651e-13</td>\n",
       "      <td>-1.475914e-13</td>\n",
       "      <td>-3.274769e-14</td>\n",
       "      <td>-3.476789e-14</td>\n",
       "      <td>-3.394101e-13</td>\n",
       "      <td>1.047055e-13</td>\n",
       "      <td>-1.244524e-13</td>\n",
       "      <td>7.268967e-14</td>\n",
       "    </tr>\n",
       "    <tr>\n",
       "      <th>std</th>\n",
       "      <td>1.000000e+00</td>\n",
       "      <td>1.000000e+00</td>\n",
       "      <td>1.000000e+00</td>\n",
       "      <td>1.000000e+00</td>\n",
       "      <td>1.000000e+00</td>\n",
       "      <td>1.000000e+00</td>\n",
       "      <td>1.000000e+00</td>\n",
       "      <td>1.000000e+00</td>\n",
       "      <td>1.000000e+00</td>\n",
       "      <td>1.000000e+00</td>\n",
       "      <td>1.000000e+00</td>\n",
       "      <td>1.000000e+00</td>\n",
       "      <td>1.000000e+00</td>\n",
       "    </tr>\n",
       "    <tr>\n",
       "      <th>min</th>\n",
       "      <td>-7.358856e+00</td>\n",
       "      <td>-2.590131e+00</td>\n",
       "      <td>-5.875165e-01</td>\n",
       "      <td>-1.724270e+00</td>\n",
       "      <td>-1.024905e-01</td>\n",
       "      <td>-2.291294e-01</td>\n",
       "      <td>-4.260982e+00</td>\n",
       "      <td>-1.668610e-01</td>\n",
       "      <td>-1.338937e-01</td>\n",
       "      <td>-1.683310e+00</td>\n",
       "      <td>-1.144252e-01</td>\n",
       "      <td>-5.042226e+00</td>\n",
       "      <td>-1.119207e-01</td>\n",
       "    </tr>\n",
       "    <tr>\n",
       "      <th>25%</th>\n",
       "      <td>2.659135e-01</td>\n",
       "      <td>3.954024e-01</td>\n",
       "      <td>-5.875165e-01</td>\n",
       "      <td>-8.918283e-01</td>\n",
       "      <td>-1.024905e-01</td>\n",
       "      <td>-2.291294e-01</td>\n",
       "      <td>2.258063e-01</td>\n",
       "      <td>-1.668610e-01</td>\n",
       "      <td>-1.338937e-01</td>\n",
       "      <td>-8.620804e-01</td>\n",
       "      <td>-1.144252e-01</td>\n",
       "      <td>3.362561e-01</td>\n",
       "      <td>-1.119207e-01</td>\n",
       "    </tr>\n",
       "    <tr>\n",
       "      <th>50%</th>\n",
       "      <td>2.659135e-01</td>\n",
       "      <td>3.954024e-01</td>\n",
       "      <td>-5.875165e-01</td>\n",
       "      <td>-5.938626e-02</td>\n",
       "      <td>-1.024905e-01</td>\n",
       "      <td>-2.291294e-01</td>\n",
       "      <td>2.258063e-01</td>\n",
       "      <td>-1.668610e-01</td>\n",
       "      <td>-1.338937e-01</td>\n",
       "      <td>-1.152106e-02</td>\n",
       "      <td>-1.144252e-01</td>\n",
       "      <td>3.362561e-01</td>\n",
       "      <td>-1.119207e-01</td>\n",
       "    </tr>\n",
       "    <tr>\n",
       "      <th>75%</th>\n",
       "      <td>2.659135e-01</td>\n",
       "      <td>3.954024e-01</td>\n",
       "      <td>1.702080e+00</td>\n",
       "      <td>3.568348e-01</td>\n",
       "      <td>-1.024905e-01</td>\n",
       "      <td>-2.291294e-01</td>\n",
       "      <td>2.258063e-01</td>\n",
       "      <td>-1.668610e-01</td>\n",
       "      <td>-1.338937e-01</td>\n",
       "      <td>8.390383e-01</td>\n",
       "      <td>-1.144252e-01</td>\n",
       "      <td>3.362561e-01</td>\n",
       "      <td>-1.119207e-01</td>\n",
       "    </tr>\n",
       "    <tr>\n",
       "      <th>max</th>\n",
       "      <td>1.790867e+00</td>\n",
       "      <td>1.021401e+00</td>\n",
       "      <td>1.702080e+00</td>\n",
       "      <td>2.437940e+00</td>\n",
       "      <td>1.359381e+01</td>\n",
       "      <td>4.575545e+00</td>\n",
       "      <td>3.815237e+00</td>\n",
       "      <td>5.993010e+00</td>\n",
       "      <td>2.199213e+01</td>\n",
       "      <td>1.806916e+00</td>\n",
       "      <td>8.739334e+00</td>\n",
       "      <td>6.526375e-01</td>\n",
       "      <td>1.797419e+01</td>\n",
       "    </tr>\n",
       "  </tbody>\n",
       "</table>\n",
       "</div>"
      ],
      "text/plain": [
       "              contp         csmcu          ecfg         etymd         flbmk  \\\n",
       "count  1.943452e+06  1.943452e+06  1.943452e+06  1.943452e+06  1.943452e+06   \n",
       "mean  -5.074577e-14 -4.369482e-13 -1.955514e-14 -2.048428e-14  8.673177e-14   \n",
       "std    1.000000e+00  1.000000e+00  1.000000e+00  1.000000e+00  1.000000e+00   \n",
       "min   -7.358856e+00 -2.590131e+00 -5.875165e-01 -1.724270e+00 -1.024905e-01   \n",
       "25%    2.659135e-01  3.954024e-01 -5.875165e-01 -8.918283e-01 -1.024905e-01   \n",
       "50%    2.659135e-01  3.954024e-01 -5.875165e-01 -5.938626e-02 -1.024905e-01   \n",
       "75%    2.659135e-01  3.954024e-01  1.702080e+00  3.568348e-01 -1.024905e-01   \n",
       "max    1.790867e+00  1.021401e+00  1.702080e+00  2.437940e+00  1.359381e+01   \n",
       "\n",
       "          flg_3dsmk         hcefg         insfg         iterm         locdt  \\\n",
       "count  1.943452e+06  1.943452e+06  1.943452e+06  1.943452e+06  1.943452e+06   \n",
       "mean  -5.186651e-13 -1.475914e-13 -3.274769e-14 -3.476789e-14 -3.394101e-13   \n",
       "std    1.000000e+00  1.000000e+00  1.000000e+00  1.000000e+00  1.000000e+00   \n",
       "min   -2.291294e-01 -4.260982e+00 -1.668610e-01 -1.338937e-01 -1.683310e+00   \n",
       "25%   -2.291294e-01  2.258063e-01 -1.668610e-01 -1.338937e-01 -8.620804e-01   \n",
       "50%   -2.291294e-01  2.258063e-01 -1.668610e-01 -1.338937e-01 -1.152106e-02   \n",
       "75%   -2.291294e-01  2.258063e-01 -1.668610e-01 -1.338937e-01  8.390383e-01   \n",
       "max    4.575545e+00  3.815237e+00  5.993010e+00  2.199213e+01  1.806916e+00   \n",
       "\n",
       "              ovrlt         stocn         stscd  \n",
       "count  1.943452e+06  1.943452e+06  1.943452e+06  \n",
       "mean   1.047055e-13 -1.244524e-13  7.268967e-14  \n",
       "std    1.000000e+00  1.000000e+00  1.000000e+00  \n",
       "min   -1.144252e-01 -5.042226e+00 -1.119207e-01  \n",
       "25%   -1.144252e-01  3.362561e-01 -1.119207e-01  \n",
       "50%   -1.144252e-01  3.362561e-01 -1.119207e-01  \n",
       "75%   -1.144252e-01  3.362561e-01 -1.119207e-01  \n",
       "max    8.739334e+00  6.526375e-01  1.797419e+01  "
      ]
     },
     "execution_count": 21,
     "metadata": {},
     "output_type": "execute_result"
    }
   ],
   "source": [
    "df_disc.describe()"
   ]
  },
  {
   "cell_type": "markdown",
   "metadata": {
    "id": "1aSEop-hYN1H"
   },
   "source": [
    "# One-Hot-Encoding"
   ]
  },
  {
   "cell_type": "code",
   "execution_count": 31,
   "metadata": {
    "colab": {
     "base_uri": "https://localhost:8080/"
    },
    "executionInfo": {
     "elapsed": 12297,
     "status": "ok",
     "timestamp": 1622546932609,
     "user": {
      "displayName": "109碩-林晉宇",
      "photoUrl": "https://lh3.googleusercontent.com/a-/AOh14GgGsspHeoi1jM836wy9pusH3l_wWXgPgiTcB1Up=s64",
      "userId": "07848351159291208652"
     },
     "user_tz": -480
    },
    "id": "fJtPE2HO4fOU",
    "outputId": "271f320a-fbf3-446f-a167-ff4085d647a1"
   },
   "outputs": [
    {
     "data": {
      "text/plain": [
       "((1943452, 359), numpy.ndarray)"
      ]
     },
     "execution_count": 31,
     "metadata": {
      "tags": []
     },
     "output_type": "execute_result"
    }
   ],
   "source": [
    "# from sklearn.preprocessing import OneHotEncoder\n",
    "# ohe = OneHotEncoder(sparse=False)\n",
    "# X_disc = ohe.fit_transform(df_disc)\n",
    "# # cut_point = ohe.feature_indices_\n",
    "# # print(\"feature cut point: \", cut_point)\n",
    "# X_disc.shape, type(X_disc)"
   ]
  },
  {
   "cell_type": "code",
   "execution_count": 32,
   "metadata": {
    "executionInfo": {
     "elapsed": 16,
     "status": "ok",
     "timestamp": 1622546932611,
     "user": {
      "displayName": "109碩-林晉宇",
      "photoUrl": "https://lh3.googleusercontent.com/a-/AOh14GgGsspHeoi1jM836wy9pusH3l_wWXgPgiTcB1Up=s64",
      "userId": "07848351159291208652"
     },
     "user_tz": -480
    },
    "id": "3t14NPU94fOU"
   },
   "outputs": [],
   "source": [
    "# new_col_names_disc = []\n",
    "# for c in col_names_disc: \n",
    "#     le = les[c]\n",
    "#     new_col_names_disc += [ c+'_'+str(cl) for cl in le.classes_ ]\n",
    "# assert len(new_col_names_disc) == X_disc.shape[1]"
   ]
  },
  {
   "cell_type": "code",
   "execution_count": 33,
   "metadata": {
    "colab": {
     "base_uri": "https://localhost:8080/",
     "height": 277
    },
    "executionInfo": {
     "elapsed": 15,
     "status": "ok",
     "timestamp": 1622546932612,
     "user": {
      "displayName": "109碩-林晉宇",
      "photoUrl": "https://lh3.googleusercontent.com/a-/AOh14GgGsspHeoi1jM836wy9pusH3l_wWXgPgiTcB1Up=s64",
      "userId": "07848351159291208652"
     },
     "user_tz": -480
    },
    "id": "sHVXI5Hx4fOV",
    "outputId": "e47d7e2b-9c45-4160-d8d9-2a2391e7fd54"
   },
   "outputs": [
    {
     "data": {
      "text/html": [
       "<div>\n",
       "<style scoped>\n",
       "    .dataframe tbody tr th:only-of-type {\n",
       "        vertical-align: middle;\n",
       "    }\n",
       "\n",
       "    .dataframe tbody tr th {\n",
       "        vertical-align: top;\n",
       "    }\n",
       "\n",
       "    .dataframe thead th {\n",
       "        text-align: right;\n",
       "    }\n",
       "</style>\n",
       "<table border=\"1\" class=\"dataframe\">\n",
       "  <thead>\n",
       "    <tr style=\"text-align: right;\">\n",
       "      <th></th>\n",
       "      <th>contp_0</th>\n",
       "      <th>contp_1</th>\n",
       "      <th>contp_2</th>\n",
       "      <th>contp_3</th>\n",
       "      <th>contp_4</th>\n",
       "      <th>contp_5</th>\n",
       "      <th>contp_6</th>\n",
       "      <th>csmcu_0</th>\n",
       "      <th>csmcu_1</th>\n",
       "      <th>csmcu_2</th>\n",
       "      <th>csmcu_3</th>\n",
       "      <th>csmcu_4</th>\n",
       "      <th>csmcu_5</th>\n",
       "      <th>csmcu_6</th>\n",
       "      <th>csmcu_7</th>\n",
       "      <th>csmcu_8</th>\n",
       "      <th>csmcu_9</th>\n",
       "      <th>csmcu_10</th>\n",
       "      <th>csmcu_11</th>\n",
       "      <th>csmcu_12</th>\n",
       "      <th>csmcu_13</th>\n",
       "      <th>csmcu_14</th>\n",
       "      <th>csmcu_15</th>\n",
       "      <th>csmcu_16</th>\n",
       "      <th>csmcu_17</th>\n",
       "      <th>csmcu_18</th>\n",
       "      <th>csmcu_19</th>\n",
       "      <th>csmcu_20</th>\n",
       "      <th>csmcu_21</th>\n",
       "      <th>csmcu_22</th>\n",
       "      <th>csmcu_23</th>\n",
       "      <th>csmcu_24</th>\n",
       "      <th>csmcu_25</th>\n",
       "      <th>csmcu_26</th>\n",
       "      <th>csmcu_27</th>\n",
       "      <th>csmcu_28</th>\n",
       "      <th>csmcu_29</th>\n",
       "      <th>csmcu_30</th>\n",
       "      <th>csmcu_31</th>\n",
       "      <th>csmcu_32</th>\n",
       "      <th>...</th>\n",
       "      <th>stocn_74</th>\n",
       "      <th>stocn_75</th>\n",
       "      <th>stocn_76</th>\n",
       "      <th>stocn_77</th>\n",
       "      <th>stocn_78</th>\n",
       "      <th>stocn_79</th>\n",
       "      <th>stocn_80</th>\n",
       "      <th>stocn_81</th>\n",
       "      <th>stocn_82</th>\n",
       "      <th>stocn_83</th>\n",
       "      <th>stocn_84</th>\n",
       "      <th>stocn_85</th>\n",
       "      <th>stocn_86</th>\n",
       "      <th>stocn_87</th>\n",
       "      <th>stocn_88</th>\n",
       "      <th>stocn_89</th>\n",
       "      <th>stocn_90</th>\n",
       "      <th>stocn_91</th>\n",
       "      <th>stocn_92</th>\n",
       "      <th>stocn_93</th>\n",
       "      <th>stocn_94</th>\n",
       "      <th>stocn_95</th>\n",
       "      <th>stocn_96</th>\n",
       "      <th>stocn_97</th>\n",
       "      <th>stocn_98</th>\n",
       "      <th>stocn_99</th>\n",
       "      <th>stocn_100</th>\n",
       "      <th>stocn_101</th>\n",
       "      <th>stocn_102</th>\n",
       "      <th>stocn_103</th>\n",
       "      <th>stocn_104</th>\n",
       "      <th>stocn_105</th>\n",
       "      <th>stocn_106</th>\n",
       "      <th>stocn_107</th>\n",
       "      <th>stocn_108</th>\n",
       "      <th>stscd_0</th>\n",
       "      <th>stscd_1</th>\n",
       "      <th>stscd_2</th>\n",
       "      <th>stscd_3</th>\n",
       "      <th>stscd_4</th>\n",
       "    </tr>\n",
       "    <tr>\n",
       "      <th>txkey</th>\n",
       "      <th></th>\n",
       "      <th></th>\n",
       "      <th></th>\n",
       "      <th></th>\n",
       "      <th></th>\n",
       "      <th></th>\n",
       "      <th></th>\n",
       "      <th></th>\n",
       "      <th></th>\n",
       "      <th></th>\n",
       "      <th></th>\n",
       "      <th></th>\n",
       "      <th></th>\n",
       "      <th></th>\n",
       "      <th></th>\n",
       "      <th></th>\n",
       "      <th></th>\n",
       "      <th></th>\n",
       "      <th></th>\n",
       "      <th></th>\n",
       "      <th></th>\n",
       "      <th></th>\n",
       "      <th></th>\n",
       "      <th></th>\n",
       "      <th></th>\n",
       "      <th></th>\n",
       "      <th></th>\n",
       "      <th></th>\n",
       "      <th></th>\n",
       "      <th></th>\n",
       "      <th></th>\n",
       "      <th></th>\n",
       "      <th></th>\n",
       "      <th></th>\n",
       "      <th></th>\n",
       "      <th></th>\n",
       "      <th></th>\n",
       "      <th></th>\n",
       "      <th></th>\n",
       "      <th></th>\n",
       "      <th></th>\n",
       "      <th></th>\n",
       "      <th></th>\n",
       "      <th></th>\n",
       "      <th></th>\n",
       "      <th></th>\n",
       "      <th></th>\n",
       "      <th></th>\n",
       "      <th></th>\n",
       "      <th></th>\n",
       "      <th></th>\n",
       "      <th></th>\n",
       "      <th></th>\n",
       "      <th></th>\n",
       "      <th></th>\n",
       "      <th></th>\n",
       "      <th></th>\n",
       "      <th></th>\n",
       "      <th></th>\n",
       "      <th></th>\n",
       "      <th></th>\n",
       "      <th></th>\n",
       "      <th></th>\n",
       "      <th></th>\n",
       "      <th></th>\n",
       "      <th></th>\n",
       "      <th></th>\n",
       "      <th></th>\n",
       "      <th></th>\n",
       "      <th></th>\n",
       "      <th></th>\n",
       "      <th></th>\n",
       "      <th></th>\n",
       "      <th></th>\n",
       "      <th></th>\n",
       "      <th></th>\n",
       "      <th></th>\n",
       "      <th></th>\n",
       "      <th></th>\n",
       "      <th></th>\n",
       "      <th></th>\n",
       "    </tr>\n",
       "  </thead>\n",
       "  <tbody>\n",
       "    <tr>\n",
       "      <th>516056</th>\n",
       "      <td>0.0</td>\n",
       "      <td>0.0</td>\n",
       "      <td>0.0</td>\n",
       "      <td>0.0</td>\n",
       "      <td>0.0</td>\n",
       "      <td>1.0</td>\n",
       "      <td>0.0</td>\n",
       "      <td>1.0</td>\n",
       "      <td>0.0</td>\n",
       "      <td>0.0</td>\n",
       "      <td>0.0</td>\n",
       "      <td>0.0</td>\n",
       "      <td>0.0</td>\n",
       "      <td>0.0</td>\n",
       "      <td>0.0</td>\n",
       "      <td>0.0</td>\n",
       "      <td>0.0</td>\n",
       "      <td>0.0</td>\n",
       "      <td>0.0</td>\n",
       "      <td>0.0</td>\n",
       "      <td>0.0</td>\n",
       "      <td>0.0</td>\n",
       "      <td>0.0</td>\n",
       "      <td>0.0</td>\n",
       "      <td>0.0</td>\n",
       "      <td>0.0</td>\n",
       "      <td>0.0</td>\n",
       "      <td>0.0</td>\n",
       "      <td>0.0</td>\n",
       "      <td>0.0</td>\n",
       "      <td>0.0</td>\n",
       "      <td>0.0</td>\n",
       "      <td>0.0</td>\n",
       "      <td>0.0</td>\n",
       "      <td>0.0</td>\n",
       "      <td>0.0</td>\n",
       "      <td>0.0</td>\n",
       "      <td>0.0</td>\n",
       "      <td>0.0</td>\n",
       "      <td>0.0</td>\n",
       "      <td>...</td>\n",
       "      <td>0.0</td>\n",
       "      <td>0.0</td>\n",
       "      <td>0.0</td>\n",
       "      <td>0.0</td>\n",
       "      <td>0.0</td>\n",
       "      <td>0.0</td>\n",
       "      <td>0.0</td>\n",
       "      <td>0.0</td>\n",
       "      <td>0.0</td>\n",
       "      <td>0.0</td>\n",
       "      <td>0.0</td>\n",
       "      <td>0.0</td>\n",
       "      <td>0.0</td>\n",
       "      <td>0.0</td>\n",
       "      <td>0.0</td>\n",
       "      <td>0.0</td>\n",
       "      <td>0.0</td>\n",
       "      <td>0.0</td>\n",
       "      <td>0.0</td>\n",
       "      <td>0.0</td>\n",
       "      <td>0.0</td>\n",
       "      <td>0.0</td>\n",
       "      <td>0.0</td>\n",
       "      <td>0.0</td>\n",
       "      <td>0.0</td>\n",
       "      <td>0.0</td>\n",
       "      <td>0.0</td>\n",
       "      <td>0.0</td>\n",
       "      <td>1.0</td>\n",
       "      <td>0.0</td>\n",
       "      <td>0.0</td>\n",
       "      <td>0.0</td>\n",
       "      <td>0.0</td>\n",
       "      <td>0.0</td>\n",
       "      <td>0.0</td>\n",
       "      <td>1.0</td>\n",
       "      <td>0.0</td>\n",
       "      <td>0.0</td>\n",
       "      <td>0.0</td>\n",
       "      <td>0.0</td>\n",
       "    </tr>\n",
       "    <tr>\n",
       "      <th>4376</th>\n",
       "      <td>0.0</td>\n",
       "      <td>0.0</td>\n",
       "      <td>0.0</td>\n",
       "      <td>0.0</td>\n",
       "      <td>0.0</td>\n",
       "      <td>1.0</td>\n",
       "      <td>0.0</td>\n",
       "      <td>1.0</td>\n",
       "      <td>0.0</td>\n",
       "      <td>0.0</td>\n",
       "      <td>0.0</td>\n",
       "      <td>0.0</td>\n",
       "      <td>0.0</td>\n",
       "      <td>0.0</td>\n",
       "      <td>0.0</td>\n",
       "      <td>0.0</td>\n",
       "      <td>0.0</td>\n",
       "      <td>0.0</td>\n",
       "      <td>0.0</td>\n",
       "      <td>0.0</td>\n",
       "      <td>0.0</td>\n",
       "      <td>0.0</td>\n",
       "      <td>0.0</td>\n",
       "      <td>0.0</td>\n",
       "      <td>0.0</td>\n",
       "      <td>0.0</td>\n",
       "      <td>0.0</td>\n",
       "      <td>0.0</td>\n",
       "      <td>0.0</td>\n",
       "      <td>0.0</td>\n",
       "      <td>0.0</td>\n",
       "      <td>0.0</td>\n",
       "      <td>0.0</td>\n",
       "      <td>0.0</td>\n",
       "      <td>0.0</td>\n",
       "      <td>0.0</td>\n",
       "      <td>0.0</td>\n",
       "      <td>0.0</td>\n",
       "      <td>0.0</td>\n",
       "      <td>0.0</td>\n",
       "      <td>...</td>\n",
       "      <td>0.0</td>\n",
       "      <td>0.0</td>\n",
       "      <td>0.0</td>\n",
       "      <td>0.0</td>\n",
       "      <td>0.0</td>\n",
       "      <td>0.0</td>\n",
       "      <td>0.0</td>\n",
       "      <td>0.0</td>\n",
       "      <td>0.0</td>\n",
       "      <td>0.0</td>\n",
       "      <td>0.0</td>\n",
       "      <td>0.0</td>\n",
       "      <td>0.0</td>\n",
       "      <td>0.0</td>\n",
       "      <td>0.0</td>\n",
       "      <td>0.0</td>\n",
       "      <td>0.0</td>\n",
       "      <td>0.0</td>\n",
       "      <td>0.0</td>\n",
       "      <td>0.0</td>\n",
       "      <td>0.0</td>\n",
       "      <td>0.0</td>\n",
       "      <td>0.0</td>\n",
       "      <td>0.0</td>\n",
       "      <td>0.0</td>\n",
       "      <td>0.0</td>\n",
       "      <td>0.0</td>\n",
       "      <td>0.0</td>\n",
       "      <td>1.0</td>\n",
       "      <td>0.0</td>\n",
       "      <td>0.0</td>\n",
       "      <td>0.0</td>\n",
       "      <td>0.0</td>\n",
       "      <td>0.0</td>\n",
       "      <td>0.0</td>\n",
       "      <td>1.0</td>\n",
       "      <td>0.0</td>\n",
       "      <td>0.0</td>\n",
       "      <td>0.0</td>\n",
       "      <td>0.0</td>\n",
       "    </tr>\n",
       "    <tr>\n",
       "      <th>483434</th>\n",
       "      <td>0.0</td>\n",
       "      <td>0.0</td>\n",
       "      <td>0.0</td>\n",
       "      <td>0.0</td>\n",
       "      <td>0.0</td>\n",
       "      <td>1.0</td>\n",
       "      <td>0.0</td>\n",
       "      <td>1.0</td>\n",
       "      <td>0.0</td>\n",
       "      <td>0.0</td>\n",
       "      <td>0.0</td>\n",
       "      <td>0.0</td>\n",
       "      <td>0.0</td>\n",
       "      <td>0.0</td>\n",
       "      <td>0.0</td>\n",
       "      <td>0.0</td>\n",
       "      <td>0.0</td>\n",
       "      <td>0.0</td>\n",
       "      <td>0.0</td>\n",
       "      <td>0.0</td>\n",
       "      <td>0.0</td>\n",
       "      <td>0.0</td>\n",
       "      <td>0.0</td>\n",
       "      <td>0.0</td>\n",
       "      <td>0.0</td>\n",
       "      <td>0.0</td>\n",
       "      <td>0.0</td>\n",
       "      <td>0.0</td>\n",
       "      <td>0.0</td>\n",
       "      <td>0.0</td>\n",
       "      <td>0.0</td>\n",
       "      <td>0.0</td>\n",
       "      <td>0.0</td>\n",
       "      <td>0.0</td>\n",
       "      <td>0.0</td>\n",
       "      <td>0.0</td>\n",
       "      <td>0.0</td>\n",
       "      <td>0.0</td>\n",
       "      <td>0.0</td>\n",
       "      <td>0.0</td>\n",
       "      <td>...</td>\n",
       "      <td>0.0</td>\n",
       "      <td>0.0</td>\n",
       "      <td>0.0</td>\n",
       "      <td>0.0</td>\n",
       "      <td>0.0</td>\n",
       "      <td>0.0</td>\n",
       "      <td>0.0</td>\n",
       "      <td>0.0</td>\n",
       "      <td>0.0</td>\n",
       "      <td>0.0</td>\n",
       "      <td>0.0</td>\n",
       "      <td>0.0</td>\n",
       "      <td>0.0</td>\n",
       "      <td>0.0</td>\n",
       "      <td>0.0</td>\n",
       "      <td>0.0</td>\n",
       "      <td>0.0</td>\n",
       "      <td>0.0</td>\n",
       "      <td>0.0</td>\n",
       "      <td>0.0</td>\n",
       "      <td>0.0</td>\n",
       "      <td>0.0</td>\n",
       "      <td>0.0</td>\n",
       "      <td>0.0</td>\n",
       "      <td>0.0</td>\n",
       "      <td>0.0</td>\n",
       "      <td>0.0</td>\n",
       "      <td>0.0</td>\n",
       "      <td>1.0</td>\n",
       "      <td>0.0</td>\n",
       "      <td>0.0</td>\n",
       "      <td>0.0</td>\n",
       "      <td>0.0</td>\n",
       "      <td>0.0</td>\n",
       "      <td>0.0</td>\n",
       "      <td>1.0</td>\n",
       "      <td>0.0</td>\n",
       "      <td>0.0</td>\n",
       "      <td>0.0</td>\n",
       "      <td>0.0</td>\n",
       "    </tr>\n",
       "    <tr>\n",
       "      <th>1407164</th>\n",
       "      <td>0.0</td>\n",
       "      <td>0.0</td>\n",
       "      <td>0.0</td>\n",
       "      <td>0.0</td>\n",
       "      <td>0.0</td>\n",
       "      <td>1.0</td>\n",
       "      <td>0.0</td>\n",
       "      <td>0.0</td>\n",
       "      <td>0.0</td>\n",
       "      <td>0.0</td>\n",
       "      <td>0.0</td>\n",
       "      <td>0.0</td>\n",
       "      <td>0.0</td>\n",
       "      <td>0.0</td>\n",
       "      <td>0.0</td>\n",
       "      <td>0.0</td>\n",
       "      <td>0.0</td>\n",
       "      <td>0.0</td>\n",
       "      <td>0.0</td>\n",
       "      <td>0.0</td>\n",
       "      <td>0.0</td>\n",
       "      <td>0.0</td>\n",
       "      <td>0.0</td>\n",
       "      <td>0.0</td>\n",
       "      <td>0.0</td>\n",
       "      <td>0.0</td>\n",
       "      <td>0.0</td>\n",
       "      <td>0.0</td>\n",
       "      <td>0.0</td>\n",
       "      <td>0.0</td>\n",
       "      <td>0.0</td>\n",
       "      <td>0.0</td>\n",
       "      <td>0.0</td>\n",
       "      <td>0.0</td>\n",
       "      <td>0.0</td>\n",
       "      <td>0.0</td>\n",
       "      <td>0.0</td>\n",
       "      <td>0.0</td>\n",
       "      <td>0.0</td>\n",
       "      <td>0.0</td>\n",
       "      <td>...</td>\n",
       "      <td>0.0</td>\n",
       "      <td>0.0</td>\n",
       "      <td>0.0</td>\n",
       "      <td>0.0</td>\n",
       "      <td>0.0</td>\n",
       "      <td>0.0</td>\n",
       "      <td>0.0</td>\n",
       "      <td>0.0</td>\n",
       "      <td>0.0</td>\n",
       "      <td>0.0</td>\n",
       "      <td>0.0</td>\n",
       "      <td>0.0</td>\n",
       "      <td>0.0</td>\n",
       "      <td>0.0</td>\n",
       "      <td>0.0</td>\n",
       "      <td>0.0</td>\n",
       "      <td>0.0</td>\n",
       "      <td>0.0</td>\n",
       "      <td>0.0</td>\n",
       "      <td>0.0</td>\n",
       "      <td>0.0</td>\n",
       "      <td>0.0</td>\n",
       "      <td>0.0</td>\n",
       "      <td>0.0</td>\n",
       "      <td>0.0</td>\n",
       "      <td>0.0</td>\n",
       "      <td>0.0</td>\n",
       "      <td>0.0</td>\n",
       "      <td>1.0</td>\n",
       "      <td>0.0</td>\n",
       "      <td>0.0</td>\n",
       "      <td>0.0</td>\n",
       "      <td>0.0</td>\n",
       "      <td>0.0</td>\n",
       "      <td>0.0</td>\n",
       "      <td>1.0</td>\n",
       "      <td>0.0</td>\n",
       "      <td>0.0</td>\n",
       "      <td>0.0</td>\n",
       "      <td>0.0</td>\n",
       "    </tr>\n",
       "    <tr>\n",
       "      <th>1051004</th>\n",
       "      <td>0.0</td>\n",
       "      <td>0.0</td>\n",
       "      <td>0.0</td>\n",
       "      <td>0.0</td>\n",
       "      <td>0.0</td>\n",
       "      <td>1.0</td>\n",
       "      <td>0.0</td>\n",
       "      <td>0.0</td>\n",
       "      <td>0.0</td>\n",
       "      <td>0.0</td>\n",
       "      <td>0.0</td>\n",
       "      <td>0.0</td>\n",
       "      <td>0.0</td>\n",
       "      <td>0.0</td>\n",
       "      <td>0.0</td>\n",
       "      <td>0.0</td>\n",
       "      <td>0.0</td>\n",
       "      <td>0.0</td>\n",
       "      <td>0.0</td>\n",
       "      <td>0.0</td>\n",
       "      <td>0.0</td>\n",
       "      <td>0.0</td>\n",
       "      <td>0.0</td>\n",
       "      <td>0.0</td>\n",
       "      <td>0.0</td>\n",
       "      <td>0.0</td>\n",
       "      <td>0.0</td>\n",
       "      <td>0.0</td>\n",
       "      <td>0.0</td>\n",
       "      <td>0.0</td>\n",
       "      <td>0.0</td>\n",
       "      <td>0.0</td>\n",
       "      <td>0.0</td>\n",
       "      <td>0.0</td>\n",
       "      <td>0.0</td>\n",
       "      <td>0.0</td>\n",
       "      <td>0.0</td>\n",
       "      <td>0.0</td>\n",
       "      <td>0.0</td>\n",
       "      <td>0.0</td>\n",
       "      <td>...</td>\n",
       "      <td>0.0</td>\n",
       "      <td>0.0</td>\n",
       "      <td>0.0</td>\n",
       "      <td>0.0</td>\n",
       "      <td>0.0</td>\n",
       "      <td>0.0</td>\n",
       "      <td>0.0</td>\n",
       "      <td>0.0</td>\n",
       "      <td>0.0</td>\n",
       "      <td>0.0</td>\n",
       "      <td>0.0</td>\n",
       "      <td>0.0</td>\n",
       "      <td>0.0</td>\n",
       "      <td>0.0</td>\n",
       "      <td>0.0</td>\n",
       "      <td>0.0</td>\n",
       "      <td>0.0</td>\n",
       "      <td>0.0</td>\n",
       "      <td>0.0</td>\n",
       "      <td>0.0</td>\n",
       "      <td>0.0</td>\n",
       "      <td>0.0</td>\n",
       "      <td>0.0</td>\n",
       "      <td>0.0</td>\n",
       "      <td>0.0</td>\n",
       "      <td>0.0</td>\n",
       "      <td>0.0</td>\n",
       "      <td>0.0</td>\n",
       "      <td>1.0</td>\n",
       "      <td>0.0</td>\n",
       "      <td>0.0</td>\n",
       "      <td>0.0</td>\n",
       "      <td>0.0</td>\n",
       "      <td>0.0</td>\n",
       "      <td>0.0</td>\n",
       "      <td>1.0</td>\n",
       "      <td>0.0</td>\n",
       "      <td>0.0</td>\n",
       "      <td>0.0</td>\n",
       "      <td>0.0</td>\n",
       "    </tr>\n",
       "  </tbody>\n",
       "</table>\n",
       "<p>5 rows × 359 columns</p>\n",
       "</div>"
      ],
      "text/plain": [
       "         contp_0  contp_1  contp_2  contp_3  ...  stscd_1  stscd_2  stscd_3  stscd_4\n",
       "txkey                                        ...                                    \n",
       "516056       0.0      0.0      0.0      0.0  ...      0.0      0.0      0.0      0.0\n",
       "4376         0.0      0.0      0.0      0.0  ...      0.0      0.0      0.0      0.0\n",
       "483434       0.0      0.0      0.0      0.0  ...      0.0      0.0      0.0      0.0\n",
       "1407164      0.0      0.0      0.0      0.0  ...      0.0      0.0      0.0      0.0\n",
       "1051004      0.0      0.0      0.0      0.0  ...      0.0      0.0      0.0      0.0\n",
       "\n",
       "[5 rows x 359 columns]"
      ]
     },
     "execution_count": 33,
     "metadata": {
      "tags": []
     },
     "output_type": "execute_result"
    }
   ],
   "source": [
    "# df_disc = pd.DataFrame(data=X_disc, index=df.index, columns=new_col_names_disc)\n",
    "# df_disc.head()"
   ]
  },
  {
   "cell_type": "code",
   "execution_count": 34,
   "metadata": {
    "colab": {
     "base_uri": "https://localhost:8080/"
    },
    "executionInfo": {
     "elapsed": 14,
     "status": "ok",
     "timestamp": 1622546932614,
     "user": {
      "displayName": "109碩-林晉宇",
      "photoUrl": "https://lh3.googleusercontent.com/a-/AOh14GgGsspHeoi1jM836wy9pusH3l_wWXgPgiTcB1Up=s64",
      "userId": "07848351159291208652"
     },
     "user_tz": -480
    },
    "id": "3RpTtha64fOV",
    "outputId": "6897677a-9c83-4d0f-fcb1-c42654df6f6c"
   },
   "outputs": [
    {
     "data": {
      "text/plain": [
       "Index(['contp_0', 'contp_1', 'contp_2', 'contp_3', 'contp_4', 'contp_5',\n",
       "       'contp_6', 'csmcu_0', 'csmcu_1', 'csmcu_2',\n",
       "       ...\n",
       "       'stocn_104', 'stocn_105', 'stocn_106', 'stocn_107', 'stocn_108',\n",
       "       'stscd_0', 'stscd_1', 'stscd_2', 'stscd_3', 'stscd_4'],\n",
       "      dtype='object', length=359)"
      ]
     },
     "execution_count": 34,
     "metadata": {
      "tags": []
     },
     "output_type": "execute_result"
    }
   ],
   "source": [
    "# df_disc.columns"
   ]
  },
  {
   "cell_type": "markdown",
   "metadata": {
    "id": "zMqM6CYeYdLr"
   },
   "source": [
    "# Concatenate and save to .csv"
   ]
  },
  {
   "cell_type": "code",
   "execution_count": 22,
   "metadata": {
    "colab": {
     "base_uri": "https://localhost:8080/"
    },
    "executionInfo": {
     "elapsed": 380,
     "status": "ok",
     "timestamp": 1622631681489,
     "user": {
      "displayName": "109碩-林晉宇",
      "photoUrl": "https://lh3.googleusercontent.com/a-/AOh14GgGsspHeoi1jM836wy9pusH3l_wWXgPgiTcB1Up=s64",
      "userId": "07848351159291208652"
     },
     "user_tz": -480
    },
    "id": "mdM565VE4fOV",
    "outputId": "3de047a8-cdfd-43f1-d6cc-a2a45fd9221b"
   },
   "outputs": [
    {
     "data": {
      "text/plain": [
       "(1943452, 21)"
      ]
     },
     "execution_count": 22,
     "metadata": {},
     "output_type": "execute_result"
    }
   ],
   "source": [
    "df = pd.concat((df_cont, df_disc), 1)\n",
    "df.shape"
   ]
  },
  {
   "cell_type": "code",
   "execution_count": 23,
   "metadata": {
    "colab": {
     "base_uri": "https://localhost:8080/"
    },
    "executionInfo": {
     "elapsed": 705,
     "status": "ok",
     "timestamp": 1622631686319,
     "user": {
      "displayName": "109碩-林晉宇",
      "photoUrl": "https://lh3.googleusercontent.com/a-/AOh14GgGsspHeoi1jM836wy9pusH3l_wWXgPgiTcB1Up=s64",
      "userId": "07848351159291208652"
     },
     "user_tz": -480
    },
    "id": "0DH0VTicGVGY",
    "outputId": "6fb28901-96e0-4729-e318-51b7713b1635"
   },
   "outputs": [
    {
     "data": {
      "text/plain": [
       "(1521787, 21)"
      ]
     },
     "execution_count": 23,
     "metadata": {},
     "output_type": "execute_result"
    }
   ],
   "source": [
    "# 取出 train.csv 的部份，還原 training set\n",
    "df_X_train_origin = df.loc[y_train.index]\n",
    "df_X_train_origin.shape"
   ]
  },
  {
   "cell_type": "code",
   "execution_count": 24,
   "metadata": {
    "colab": {
     "base_uri": "https://localhost:8080/"
    },
    "executionInfo": {
     "elapsed": 901,
     "status": "ok",
     "timestamp": 1622631698047,
     "user": {
      "displayName": "109碩-林晉宇",
      "photoUrl": "https://lh3.googleusercontent.com/a-/AOh14GgGsspHeoi1jM836wy9pusH3l_wWXgPgiTcB1Up=s64",
      "userId": "07848351159291208652"
     },
     "user_tz": -480
    },
    "id": "isI_64qUQ9dF",
    "outputId": "d6d40f38-f290-4deb-f003-318c19237763"
   },
   "outputs": [
    {
     "data": {
      "text/plain": [
       "(421665, 21)"
      ]
     },
     "execution_count": 24,
     "metadata": {},
     "output_type": "execute_result"
    }
   ],
   "source": [
    "df_X_test_origin = df.drop(labels=y_train.index, axis=0)\n",
    "df_X_test_origin.shape"
   ]
  },
  {
   "cell_type": "code",
   "execution_count": 25,
   "metadata": {
    "colab": {
     "base_uri": "https://localhost:8080/"
    },
    "executionInfo": {
     "elapsed": 376,
     "status": "ok",
     "timestamp": 1622631715372,
     "user": {
      "displayName": "109碩-林晉宇",
      "photoUrl": "https://lh3.googleusercontent.com/a-/AOh14GgGsspHeoi1jM836wy9pusH3l_wWXgPgiTcB1Up=s64",
      "userId": "07848351159291208652"
     },
     "user_tz": -480
    },
    "id": "l_5zCyCIRiLZ",
    "outputId": "7ec67da2-3966-4234-c0b4-3624260ffd71"
   },
   "outputs": [
    {
     "data": {
      "text/plain": [
       "(1521787, 22)"
      ]
     },
     "execution_count": 25,
     "metadata": {},
     "output_type": "execute_result"
    }
   ],
   "source": [
    "# 先取消索引\n",
    "df_X_train_origin = df_X_train_origin.reset_index()\n",
    "df_X_train_origin.shape"
   ]
  },
  {
   "cell_type": "code",
   "execution_count": 26,
   "metadata": {
    "executionInfo": {
     "elapsed": 392,
     "status": "ok",
     "timestamp": 1622631719139,
     "user": {
      "displayName": "109碩-林晉宇",
      "photoUrl": "https://lh3.googleusercontent.com/a-/AOh14GgGsspHeoi1jM836wy9pusH3l_wWXgPgiTcB1Up=s64",
      "userId": "07848351159291208652"
     },
     "user_tz": -480
    },
    "id": "r5l3SLV7G2wF"
   },
   "outputs": [],
   "source": [
    "# segment train & test\n",
    "cut = 1217430\n",
    "df_X_train = df_X_train_origin.loc[0:cut,:]\n",
    "df_X_test = df_X_train_origin.loc[cut:,:]"
   ]
  },
  {
   "cell_type": "code",
   "execution_count": 27,
   "metadata": {
    "executionInfo": {
     "elapsed": 372,
     "status": "ok",
     "timestamp": 1622631753084,
     "user": {
      "displayName": "109碩-林晉宇",
      "photoUrl": "https://lh3.googleusercontent.com/a-/AOh14GgGsspHeoi1jM836wy9pusH3l_wWXgPgiTcB1Up=s64",
      "userId": "07848351159291208652"
     },
     "user_tz": -480
    },
    "id": "66sAaomZV3Ge"
   },
   "outputs": [],
   "source": [
    "# set index = 'txkey'\n",
    "df_X_train = df_X_train.set_index(\"txkey\")\n",
    "df_X_test = df_X_test.set_index(\"txkey\")"
   ]
  },
  {
   "cell_type": "code",
   "execution_count": 28,
   "metadata": {
    "colab": {
     "base_uri": "https://localhost:8080/"
    },
    "executionInfo": {
     "elapsed": 377,
     "status": "ok",
     "timestamp": 1622631755461,
     "user": {
      "displayName": "109碩-林晉宇",
      "photoUrl": "https://lh3.googleusercontent.com/a-/AOh14GgGsspHeoi1jM836wy9pusH3l_wWXgPgiTcB1Up=s64",
      "userId": "07848351159291208652"
     },
     "user_tz": -480
    },
    "id": "EJe6SBokY1_h",
    "outputId": "c038b34c-7bee-48c5-d571-f8a88e3f1724"
   },
   "outputs": [
    {
     "data": {
      "text/plain": [
       "((1217431, 21), (304357, 21))"
      ]
     },
     "execution_count": 28,
     "metadata": {},
     "output_type": "execute_result"
    }
   ],
   "source": [
    "df_X_train.shape, df_X_test.shape"
   ]
  },
  {
   "cell_type": "code",
   "execution_count": 30,
   "metadata": {
    "executionInfo": {
     "elapsed": 377,
     "status": "ok",
     "timestamp": 1622631767607,
     "user": {
      "displayName": "109碩-林晉宇",
      "photoUrl": "https://lh3.googleusercontent.com/a-/AOh14GgGsspHeoi1jM836wy9pusH3l_wWXgPgiTcB1Up=s64",
      "userId": "07848351159291208652"
     },
     "user_tz": -480
    },
    "id": "g45Lk596SN6e"
   },
   "outputs": [],
   "source": [
    "# df.to_csv(\"./Credit_Card/df_all_prep.csv\")"
   ]
  },
  {
   "cell_type": "code",
   "execution_count": 31,
   "metadata": {
    "executionInfo": {
     "elapsed": 15146,
     "status": "ok",
     "timestamp": 1622631785420,
     "user": {
      "displayName": "109碩-林晉宇",
      "photoUrl": "https://lh3.googleusercontent.com/a-/AOh14GgGsspHeoi1jM836wy9pusH3l_wWXgPgiTcB1Up=s64",
      "userId": "07848351159291208652"
     },
     "user_tz": -480
    },
    "id": "ZR1ZmDAYX2kf"
   },
   "outputs": [],
   "source": [
    "df_X_test_origin.to_csv(\"test_origin_prep.csv\")"
   ]
  },
  {
   "cell_type": "code",
   "execution_count": 32,
   "metadata": {
    "executionInfo": {
     "elapsed": 44029,
     "status": "ok",
     "timestamp": 1622631829436,
     "user": {
      "displayName": "109碩-林晉宇",
      "photoUrl": "https://lh3.googleusercontent.com/a-/AOh14GgGsspHeoi1jM836wy9pusH3l_wWXgPgiTcB1Up=s64",
      "userId": "07848351159291208652"
     },
     "user_tz": -480
    },
    "id": "SItTofi3WHrR"
   },
   "outputs": [],
   "source": [
    "df_X_train.to_csv(\"X_train.csv\")"
   ]
  },
  {
   "cell_type": "code",
   "execution_count": 33,
   "metadata": {
    "executionInfo": {
     "elapsed": 10904,
     "status": "ok",
     "timestamp": 1622631840313,
     "user": {
      "displayName": "109碩-林晉宇",
      "photoUrl": "https://lh3.googleusercontent.com/a-/AOh14GgGsspHeoi1jM836wy9pusH3l_wWXgPgiTcB1Up=s64",
      "userId": "07848351159291208652"
     },
     "user_tz": -480
    },
    "id": "4mAo7qXLWR_y"
   },
   "outputs": [],
   "source": [
    "df_X_test.to_csv(\"X_test.csv\")"
   ]
  },
  {
   "cell_type": "code",
   "execution_count": 34,
   "metadata": {
    "executionInfo": {
     "elapsed": 2200,
     "status": "ok",
     "timestamp": 1622631842501,
     "user": {
      "displayName": "109碩-林晉宇",
      "photoUrl": "https://lh3.googleusercontent.com/a-/AOh14GgGsspHeoi1jM836wy9pusH3l_wWXgPgiTcB1Up=s64",
      "userId": "07848351159291208652"
     },
     "user_tz": -480
    },
    "id": "UQCrTyVMlk5P"
   },
   "outputs": [],
   "source": [
    "y_train.to_csv(\"y_train.csv\") # <Series>, index = 'txkey'"
   ]
  },
  {
   "cell_type": "markdown",
   "metadata": {
    "id": "QOqHUv9d7JYC"
   },
   "source": [
    "# 轉換 Testing 資料"
   ]
  },
  {
   "cell_type": "code",
   "execution_count": 38,
   "metadata": {
    "colab": {
     "base_uri": "https://localhost:8080/",
     "height": 458
    },
    "executionInfo": {
     "elapsed": 15,
     "status": "ok",
     "timestamp": 1622547682659,
     "user": {
      "displayName": "109碩-林晉宇",
      "photoUrl": "https://lh3.googleusercontent.com/a-/AOh14GgGsspHeoi1jM836wy9pusH3l_wWXgPgiTcB1Up=s64",
      "userId": "07848351159291208652"
     },
     "user_tz": -480
    },
    "id": "0uuWEl-57BKz",
    "outputId": "515d0af2-bdee-4a95-b256-53ddcff9db29"
   },
   "outputs": [
    {
     "data": {
      "text/html": [
       "<div>\n",
       "<style scoped>\n",
       "    .dataframe tbody tr th:only-of-type {\n",
       "        vertical-align: middle;\n",
       "    }\n",
       "\n",
       "    .dataframe tbody tr th {\n",
       "        vertical-align: top;\n",
       "    }\n",
       "\n",
       "    .dataframe thead th {\n",
       "        text-align: right;\n",
       "    }\n",
       "</style>\n",
       "<table border=\"1\" class=\"dataframe\">\n",
       "  <thead>\n",
       "    <tr style=\"text-align: right;\">\n",
       "      <th></th>\n",
       "      <th>acqic</th>\n",
       "      <th>bacno</th>\n",
       "      <th>cano</th>\n",
       "      <th>conam</th>\n",
       "      <th>contp</th>\n",
       "      <th>csmcu</th>\n",
       "      <th>ecfg</th>\n",
       "      <th>etymd</th>\n",
       "      <th>flbmk</th>\n",
       "      <th>flg_3dsmk</th>\n",
       "      <th>hcefg</th>\n",
       "      <th>insfg</th>\n",
       "      <th>iterm</th>\n",
       "      <th>locdt</th>\n",
       "      <th>loctm</th>\n",
       "      <th>mcc</th>\n",
       "      <th>mchno</th>\n",
       "      <th>ovrlt</th>\n",
       "      <th>scity</th>\n",
       "      <th>stocn</th>\n",
       "      <th>stscd</th>\n",
       "    </tr>\n",
       "    <tr>\n",
       "      <th>txkey</th>\n",
       "      <th></th>\n",
       "      <th></th>\n",
       "      <th></th>\n",
       "      <th></th>\n",
       "      <th></th>\n",
       "      <th></th>\n",
       "      <th></th>\n",
       "      <th></th>\n",
       "      <th></th>\n",
       "      <th></th>\n",
       "      <th></th>\n",
       "      <th></th>\n",
       "      <th></th>\n",
       "      <th></th>\n",
       "      <th></th>\n",
       "      <th></th>\n",
       "      <th></th>\n",
       "      <th></th>\n",
       "      <th></th>\n",
       "      <th></th>\n",
       "      <th></th>\n",
       "    </tr>\n",
       "  </thead>\n",
       "  <tbody>\n",
       "    <tr>\n",
       "      <th>592489</th>\n",
       "      <td>6881</td>\n",
       "      <td>163188</td>\n",
       "      <td>116799</td>\n",
       "      <td>513.80</td>\n",
       "      <td>5</td>\n",
       "      <td>0</td>\n",
       "      <td>N</td>\n",
       "      <td>0</td>\n",
       "      <td>N</td>\n",
       "      <td>N</td>\n",
       "      <td>5</td>\n",
       "      <td>N</td>\n",
       "      <td>0</td>\n",
       "      <td>102</td>\n",
       "      <td>215328.0</td>\n",
       "      <td>457</td>\n",
       "      <td>59360</td>\n",
       "      <td>N</td>\n",
       "      <td>0</td>\n",
       "      <td>102</td>\n",
       "      <td>0</td>\n",
       "    </tr>\n",
       "    <tr>\n",
       "      <th>592452</th>\n",
       "      <td>6881</td>\n",
       "      <td>163188</td>\n",
       "      <td>116799</td>\n",
       "      <td>513.80</td>\n",
       "      <td>5</td>\n",
       "      <td>0</td>\n",
       "      <td>N</td>\n",
       "      <td>0</td>\n",
       "      <td>N</td>\n",
       "      <td>N</td>\n",
       "      <td>5</td>\n",
       "      <td>N</td>\n",
       "      <td>0</td>\n",
       "      <td>102</td>\n",
       "      <td>222007.0</td>\n",
       "      <td>457</td>\n",
       "      <td>59360</td>\n",
       "      <td>N</td>\n",
       "      <td>0</td>\n",
       "      <td>102</td>\n",
       "      <td>0</td>\n",
       "    </tr>\n",
       "    <tr>\n",
       "      <th>590212</th>\n",
       "      <td>6881</td>\n",
       "      <td>163188</td>\n",
       "      <td>116799</td>\n",
       "      <td>513.80</td>\n",
       "      <td>5</td>\n",
       "      <td>0</td>\n",
       "      <td>N</td>\n",
       "      <td>0</td>\n",
       "      <td>N</td>\n",
       "      <td>N</td>\n",
       "      <td>5</td>\n",
       "      <td>N</td>\n",
       "      <td>0</td>\n",
       "      <td>100</td>\n",
       "      <td>170013.0</td>\n",
       "      <td>457</td>\n",
       "      <td>59360</td>\n",
       "      <td>N</td>\n",
       "      <td>0</td>\n",
       "      <td>102</td>\n",
       "      <td>0</td>\n",
       "    </tr>\n",
       "    <tr>\n",
       "      <th>590209</th>\n",
       "      <td>6881</td>\n",
       "      <td>163188</td>\n",
       "      <td>116799</td>\n",
       "      <td>513.80</td>\n",
       "      <td>5</td>\n",
       "      <td>0</td>\n",
       "      <td>N</td>\n",
       "      <td>0</td>\n",
       "      <td>N</td>\n",
       "      <td>N</td>\n",
       "      <td>5</td>\n",
       "      <td>N</td>\n",
       "      <td>0</td>\n",
       "      <td>100</td>\n",
       "      <td>165914.0</td>\n",
       "      <td>457</td>\n",
       "      <td>59360</td>\n",
       "      <td>N</td>\n",
       "      <td>0</td>\n",
       "      <td>102</td>\n",
       "      <td>0</td>\n",
       "    </tr>\n",
       "    <tr>\n",
       "      <th>592488</th>\n",
       "      <td>6881</td>\n",
       "      <td>163188</td>\n",
       "      <td>116799</td>\n",
       "      <td>513.80</td>\n",
       "      <td>5</td>\n",
       "      <td>0</td>\n",
       "      <td>N</td>\n",
       "      <td>0</td>\n",
       "      <td>N</td>\n",
       "      <td>N</td>\n",
       "      <td>5</td>\n",
       "      <td>N</td>\n",
       "      <td>0</td>\n",
       "      <td>102</td>\n",
       "      <td>215311.0</td>\n",
       "      <td>457</td>\n",
       "      <td>59360</td>\n",
       "      <td>N</td>\n",
       "      <td>0</td>\n",
       "      <td>102</td>\n",
       "      <td>0</td>\n",
       "    </tr>\n",
       "    <tr>\n",
       "      <th>...</th>\n",
       "      <td>...</td>\n",
       "      <td>...</td>\n",
       "      <td>...</td>\n",
       "      <td>...</td>\n",
       "      <td>...</td>\n",
       "      <td>...</td>\n",
       "      <td>...</td>\n",
       "      <td>...</td>\n",
       "      <td>...</td>\n",
       "      <td>...</td>\n",
       "      <td>...</td>\n",
       "      <td>...</td>\n",
       "      <td>...</td>\n",
       "      <td>...</td>\n",
       "      <td>...</td>\n",
       "      <td>...</td>\n",
       "      <td>...</td>\n",
       "      <td>...</td>\n",
       "      <td>...</td>\n",
       "      <td>...</td>\n",
       "      <td>...</td>\n",
       "    </tr>\n",
       "    <tr>\n",
       "      <th>1187507</th>\n",
       "      <td>5975</td>\n",
       "      <td>147326</td>\n",
       "      <td>79511</td>\n",
       "      <td>633.76</td>\n",
       "      <td>5</td>\n",
       "      <td>62</td>\n",
       "      <td>N</td>\n",
       "      <td>2</td>\n",
       "      <td>N</td>\n",
       "      <td>N</td>\n",
       "      <td>5</td>\n",
       "      <td>N</td>\n",
       "      <td>0</td>\n",
       "      <td>116</td>\n",
       "      <td>111228.0</td>\n",
       "      <td>343</td>\n",
       "      <td>87282</td>\n",
       "      <td>N</td>\n",
       "      <td>5817</td>\n",
       "      <td>102</td>\n",
       "      <td>0</td>\n",
       "    </tr>\n",
       "    <tr>\n",
       "      <th>1182598</th>\n",
       "      <td>6716</td>\n",
       "      <td>14305</td>\n",
       "      <td>136493</td>\n",
       "      <td>952.84</td>\n",
       "      <td>5</td>\n",
       "      <td>62</td>\n",
       "      <td>N</td>\n",
       "      <td>5</td>\n",
       "      <td>N</td>\n",
       "      <td>N</td>\n",
       "      <td>8</td>\n",
       "      <td>N</td>\n",
       "      <td>0</td>\n",
       "      <td>107</td>\n",
       "      <td>85839.0</td>\n",
       "      <td>245</td>\n",
       "      <td>48784</td>\n",
       "      <td>N</td>\n",
       "      <td>5859</td>\n",
       "      <td>102</td>\n",
       "      <td>0</td>\n",
       "    </tr>\n",
       "    <tr>\n",
       "      <th>898724</th>\n",
       "      <td>5975</td>\n",
       "      <td>156543</td>\n",
       "      <td>137963</td>\n",
       "      <td>713.42</td>\n",
       "      <td>5</td>\n",
       "      <td>62</td>\n",
       "      <td>N</td>\n",
       "      <td>4</td>\n",
       "      <td>N</td>\n",
       "      <td>N</td>\n",
       "      <td>5</td>\n",
       "      <td>N</td>\n",
       "      <td>0</td>\n",
       "      <td>111</td>\n",
       "      <td>184921.0</td>\n",
       "      <td>263</td>\n",
       "      <td>98326</td>\n",
       "      <td>N</td>\n",
       "      <td>5817</td>\n",
       "      <td>102</td>\n",
       "      <td>0</td>\n",
       "    </tr>\n",
       "    <tr>\n",
       "      <th>971467</th>\n",
       "      <td>6231</td>\n",
       "      <td>156543</td>\n",
       "      <td>137964</td>\n",
       "      <td>903.94</td>\n",
       "      <td>5</td>\n",
       "      <td>62</td>\n",
       "      <td>N</td>\n",
       "      <td>5</td>\n",
       "      <td>N</td>\n",
       "      <td>N</td>\n",
       "      <td>5</td>\n",
       "      <td>N</td>\n",
       "      <td>0</td>\n",
       "      <td>114</td>\n",
       "      <td>144434.0</td>\n",
       "      <td>251</td>\n",
       "      <td>17763</td>\n",
       "      <td>N</td>\n",
       "      <td>5817</td>\n",
       "      <td>102</td>\n",
       "      <td>0</td>\n",
       "    </tr>\n",
       "    <tr>\n",
       "      <th>101230</th>\n",
       "      <td>6769</td>\n",
       "      <td>131985</td>\n",
       "      <td>98699</td>\n",
       "      <td>760.09</td>\n",
       "      <td>5</td>\n",
       "      <td>62</td>\n",
       "      <td>N</td>\n",
       "      <td>4</td>\n",
       "      <td>N</td>\n",
       "      <td>N</td>\n",
       "      <td>5</td>\n",
       "      <td>N</td>\n",
       "      <td>0</td>\n",
       "      <td>116</td>\n",
       "      <td>162804.0</td>\n",
       "      <td>251</td>\n",
       "      <td>78019</td>\n",
       "      <td>N</td>\n",
       "      <td>3294</td>\n",
       "      <td>102</td>\n",
       "      <td>0</td>\n",
       "    </tr>\n",
       "  </tbody>\n",
       "</table>\n",
       "<p>421665 rows × 21 columns</p>\n",
       "</div>"
      ],
      "text/plain": [
       "         acqic   bacno    cano   conam  contp  ...  mchno ovrlt  scity stocn stscd\n",
       "txkey                                          ...                                \n",
       "592489    6881  163188  116799  513.80      5  ...  59360     N      0   102     0\n",
       "592452    6881  163188  116799  513.80      5  ...  59360     N      0   102     0\n",
       "590212    6881  163188  116799  513.80      5  ...  59360     N      0   102     0\n",
       "590209    6881  163188  116799  513.80      5  ...  59360     N      0   102     0\n",
       "592488    6881  163188  116799  513.80      5  ...  59360     N      0   102     0\n",
       "...        ...     ...     ...     ...    ...  ...    ...   ...    ...   ...   ...\n",
       "1187507   5975  147326   79511  633.76      5  ...  87282     N   5817   102     0\n",
       "1182598   6716   14305  136493  952.84      5  ...  48784     N   5859   102     0\n",
       "898724    5975  156543  137963  713.42      5  ...  98326     N   5817   102     0\n",
       "971467    6231  156543  137964  903.94      5  ...  17763     N   5817   102     0\n",
       "101230    6769  131985   98699  760.09      5  ...  78019     N   3294   102     0\n",
       "\n",
       "[421665 rows x 21 columns]"
      ]
     },
     "execution_count": 38,
     "metadata": {
      "tags": []
     },
     "output_type": "execute_result"
    }
   ],
   "source": [
    "df_test"
   ]
  }
 ],
 "metadata": {
  "colab": {
   "collapsed_sections": [
    "1aSEop-hYN1H",
    "QOqHUv9d7JYC"
   ],
   "machine_shape": "hm",
   "name": "02_data_preprocessing.ipynb",
   "provenance": [],
   "toc_visible": true
  },
  "kernelspec": {
   "display_name": "Python 3",
   "language": "python",
   "name": "python3"
  },
  "language_info": {
   "codemirror_mode": {
    "name": "ipython",
    "version": 3
   },
   "file_extension": ".py",
   "mimetype": "text/x-python",
   "name": "python",
   "nbconvert_exporter": "python",
   "pygments_lexer": "ipython3",
   "version": "3.8.8"
  }
 },
 "nbformat": 4,
 "nbformat_minor": 4
}
