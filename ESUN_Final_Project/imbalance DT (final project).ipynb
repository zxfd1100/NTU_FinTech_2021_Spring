{
 "cells": [
  {
   "cell_type": "code",
   "execution_count": 1,
   "metadata": {},
   "outputs": [
    {
     "name": "stderr",
     "output_type": "stream",
     "text": [
      "C:\\Users\\10411\\anaconda3\\lib\\site-packages\\numpy\\_distributor_init.py:32: UserWarning: loaded more than 1 DLL from .libs:\n",
      "C:\\Users\\10411\\anaconda3\\lib\\site-packages\\numpy\\.libs\\libopenblas.QVLO2T66WEPI7JZ63PS3HMOHFEY472BC.gfortran-win_amd64.dll\n",
      "C:\\Users\\10411\\anaconda3\\lib\\site-packages\\numpy\\.libs\\libopenblas.WCDJNK7YVMPZQ2ME2ZZHJJRJ3JIKNDB7.gfortran-win_amd64.dll\n",
      "  stacklevel=1)\n"
     ]
    }
   ],
   "source": [
    "import numpy as np\n",
    "from sklearn import tree\n",
    "import matplotlib.pyplot as plt\n",
    "from sklearn.model_selection import train_test_split\n",
    "from sklearn import preprocessing\n",
    "import csv\n",
    "import pandas as pd\n",
    "from sklearn.metrics import classification_report,confusion_matrix\n",
    "from sklearn.model_selection import cross_val_score\n",
    "from sklearn.metrics import roc_auc_score\n",
    "from sklearn import metrics\n",
    "from sklearn.tree import export_graphviz\n",
    "from sklearn.inspection import permutation_importance\n",
    "from sklearn.metrics import precision_recall_curve\n",
    "from sklearn.metrics import plot_precision_recall_curve\n",
    "from sklearn.metrics import average_precision_score\n",
    "import seaborn as sns\n"
   ]
  },
  {
   "cell_type": "code",
   "execution_count": 2,
   "metadata": {},
   "outputs": [],
   "source": [
    "df = pd.read_csv('train.csv')\n",
    "testdf = pd.read_csv('test.csv')"
   ]
  },
  {
   "cell_type": "code",
   "execution_count": 3,
   "metadata": {},
   "outputs": [],
   "source": [
    "df=df.fillna('N')\n",
    "testdf=testdf.fillna('N')"
   ]
  },
  {
   "cell_type": "code",
   "execution_count": 4,
   "metadata": {},
   "outputs": [],
   "source": [
    "from sklearn.preprocessing import LabelEncoder\n",
    "df[['ecfg']]=df[['ecfg']].apply(LabelEncoder().fit_transform)\n",
    "df[['flbmk']]=df[['flbmk']].apply(LabelEncoder().fit_transform)\n",
    "df[['flg_3dsmk']]=df[['flg_3dsmk']].apply(LabelEncoder().fit_transform)\n",
    "df[['insfg']]=df[['insfg']].apply(LabelEncoder().fit_transform)\n",
    "df[['ovrlt']]=df[['ovrlt']].apply(LabelEncoder().fit_transform)\n"
   ]
  },
  {
   "cell_type": "code",
   "execution_count": 5,
   "metadata": {},
   "outputs": [],
   "source": [
    "from sklearn.preprocessing import LabelEncoder\n",
    "testdf[['ecfg']]=testdf[['ecfg']].apply(LabelEncoder().fit_transform)\n",
    "testdf[['flbmk']]=testdf[['flbmk']].apply(LabelEncoder().fit_transform)\n",
    "testdf[['flg_3dsmk']]=testdf[['flg_3dsmk']].apply(LabelEncoder().fit_transform)\n",
    "testdf[['insfg']]=testdf[['insfg']].apply(LabelEncoder().fit_transform)\n",
    "testdf[['ovrlt']]=testdf[['ovrlt']].apply(LabelEncoder().fit_transform)"
   ]
  },
  {
   "cell_type": "code",
   "execution_count": 6,
   "metadata": {},
   "outputs": [],
   "source": [
    "df1=df.values\n",
    "df2=testdf.values"
   ]
  },
  {
   "cell_type": "code",
   "execution_count": 7,
   "metadata": {},
   "outputs": [
    {
     "data": {
      "image/png": "[encoded data removed]",
      "text/plain": [
       "<Figure size 576x576 with 1 Axes>"
      ]
     },
     "metadata": {
      "needs_background": "light"
     },
     "output_type": "display_data"
    }
   ],
   "source": [
    "fraud_df = df.loc[df['fraud_ind'] == 1]\n",
    "\n",
    "non_fraud_df = df.loc[df['fraud_ind'] == 0].sample(n=20355,random_state=42)\n",
    "\n",
    "normalized_df = pd.concat([fraud_df, non_fraud_df])\n",
    "\n",
    "#plot the dataset after the undersampling\n",
    "plt.figure(figsize=(8, 8))\n",
    "sns.countplot('fraud_ind', data=normalized_df)\n",
    "plt.title('Balanced Classes')\n",
    "plt.show()"
   ]
  },
  {
   "cell_type": "code",
   "execution_count": 8,
   "metadata": {},
   "outputs": [
    {
     "name": "stdout",
     "output_type": "stream",
     "text": [
      "Requirement already satisfied: imbalanced-learn==0.6.0 in c:\\users\\10411\\anaconda3\\lib\\site-packages (0.6.0)\n",
      "Requirement already satisfied: joblib>=0.11 in c:\\users\\10411\\anaconda3\\lib\\site-packages (from imbalanced-learn==0.6.0) (0.16.0)\n",
      "Requirement already satisfied: scikit-learn>=0.22 in c:\\users\\10411\\anaconda3\\lib\\site-packages (from imbalanced-learn==0.6.0) (0.22.1)\n",
      "Requirement already satisfied: scipy>=0.17 in c:\\users\\10411\\anaconda3\\lib\\site-packages (from imbalanced-learn==0.6.0) (1.5.0)\n",
      "Requirement already satisfied: numpy>=1.11 in c:\\users\\10411\\anaconda3\\lib\\site-packages (from imbalanced-learn==0.6.0) (1.19.5)\n",
      "Requirement already satisfied: scikit-learn==0.22.1 in c:\\users\\10411\\anaconda3\\lib\\site-packages (0.22.1)\n",
      "Requirement already satisfied: numpy>=1.11.0 in c:\\users\\10411\\anaconda3\\lib\\site-packages (from scikit-learn==0.22.1) (1.19.5)\n",
      "Requirement already satisfied: joblib>=0.11 in c:\\users\\10411\\anaconda3\\lib\\site-packages (from scikit-learn==0.22.1) (0.16.0)\n",
      "Requirement already satisfied: scipy>=0.17.0 in c:\\users\\10411\\anaconda3\\lib\\site-packages (from scikit-learn==0.22.1) (1.5.0)\n"
     ]
    }
   ],
   "source": [
    "!pip install imbalanced-learn==0.6.0\n",
    "!pip install scikit-learn==0.22.1"
   ]
  },
  {
   "cell_type": "code",
   "execution_count": 9,
   "metadata": {},
   "outputs": [
    {
     "name": "stdout",
     "output_type": "stream",
     "text": [
      "bbc.score: 0.952311360058037\n",
      "[[357257  18118]\n",
      " [    25   5047]]\n",
      "\n",
      "\n",
      "              precision    recall  f1-score   support\n",
      "\n",
      "           0       1.00      0.95      0.98    375375\n",
      "           1       0.22      1.00      0.36      5072\n",
      "\n",
      "    accuracy                           0.95    380447\n",
      "   macro avg       0.61      0.97      0.67    380447\n",
      "weighted avg       0.99      0.95      0.97    380447\n",
      "\n"
     ]
    }
   ],
   "source": [
    "from imblearn.ensemble import BalancedBaggingClassifier\n",
    "from sklearn.tree import DecisionTreeClassifier\n",
    "\n",
    "#Create an object of the classifier.\n",
    "bbc = BalancedBaggingClassifier(base_estimator=DecisionTreeClassifier(),\n",
    "                                sampling_strategy='auto',\n",
    "                                replacement=False,\n",
    "                                random_state=0)\n",
    "\n",
    "y_train = df['fraud_ind']\n",
    "X_train = df.drop(['fraud_ind'], axis=1, inplace=False)\n",
    "\n",
    "y_test = testdf['fraud_ind']\n",
    "X_test = testdf.drop(['fraud_ind'], axis=1, inplace=False)\n",
    "\n",
    "#Train the classifier.\n",
    "bbc.fit(X_train, y_train)\n",
    "preds = bbc.predict(X_test)\n",
    "print('bbc.score:',bbc.score(X_test,y_test))\n",
    "#tree_predictions = tree.predict(X_test)\n",
    "print(confusion_matrix(y_test,preds))\n",
    "print('\\n')\n",
    "print(classification_report(y_test,preds))"
   ]
  },
  {
   "cell_type": "code",
   "execution_count": 11,
   "metadata": {},
   "outputs": [
    {
     "data": {
      "image/png": "[encoded data removed]",
      "text/plain": [
       "<Figure size 432x288 with 1 Axes>"
      ]
     },
     "metadata": {
      "needs_background": "light"
     },
     "output_type": "display_data"
    }
   ],
   "source": [
    "from sklearn.metrics import plot_roc_curve\n",
    "bbc_disp = plot_roc_curve(bbc, X_test, y_test)\n",
    "plt.show()"
   ]
  },
  {
   "cell_type": "code",
   "execution_count": 20,
   "metadata": {},
   "outputs": [
    {
     "data": {
      "image/png": "[encoded data removed]",
      "text/plain": [
       "<Figure size 288x288 with 2 Axes>"
      ]
     },
     "metadata": {
      "needs_background": "light"
     },
     "output_type": "display_data"
    }
   ],
   "source": [
    "import seaborn as sns\n",
    "con_mat = confusion_matrix(y_test, preds)\n",
    "\n",
    "con_mat_norm = con_mat.astype('float') / con_mat.sum(axis=1)[:, np.newaxis]     # 归一化\n",
    "con_mat_norm = np.around(con_mat_norm, decimals=5)\n",
    "plt.figure(figsize=(4, 4))\n",
    "sns.heatmap(con_mat_norm, annot=True, cmap='Blues')\n",
    "\n",
    "plt.ylim(0, 2)\n",
    "plt.xlabel('Predicted labels')\n",
    "plt.ylabel('True labels')\n",
    "plt.show()"
   ]
  },
  {
   "cell_type": "code",
   "execution_count": null,
   "metadata": {},
   "outputs": [],
   "source": []
  }
 ],
 "metadata": {
  "kernelspec": {
   "display_name": "Python 3",
   "language": "python",
   "name": "python3"
  },
  "language_info": {
   "codemirror_mode": {
    "name": "ipython",
    "version": 3
   },
   "file_extension": ".py",
   "mimetype": "text/x-python",
   "name": "python",
   "nbconvert_exporter": "python",
   "pygments_lexer": "ipython3",
   "version": "3.6.10"
  }
 },
 "nbformat": 4,
 "nbformat_minor": 4
}
